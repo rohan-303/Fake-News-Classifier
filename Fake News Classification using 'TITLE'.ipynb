{
 "cells": [
  {
   "cell_type": "markdown",
   "id": "1f9bd99d",
   "metadata": {},
   "source": [
    "# <center>Fake-News-Classifier</center>"
   ]
  },
  {
   "cell_type": "markdown",
   "id": "b3c00dbb",
   "metadata": {},
   "source": [
    "![Fake-Fact image](https://theleaflet.in/wp-content/uploads/2020/11/190108-fake-thumb.jpg)"
   ]
  },
  {
   "cell_type": "markdown",
   "id": "bfb064f1",
   "metadata": {},
   "source": [
    "# ♦ Introduction ♦\n",
    "\n",
    "As of Today, It is very hard to find the difference between the fake and the real news as the social media grows wider.Fake news is false or misleading information presented as news. Fake news often has the aim of damaging the reputation of a person or entity, or making money through advertising revenue.To takle this problem i build a machine learning model which can classify the fake news. It may not be the best model but it is a good model.\n",
    "\n",
    "#About \n",
    "## Dataset:\n",
    "The following dataset used in this project is the famous dataset is taken from the [kaggle](https://www.kaggle.com/datasets/clmentbisaillon/fake-and-real-news-dataset). The dataset contains two csv files named True.csv and Fake.csv which consists of the real news and fake news respectively. Each csv file contains 4 attributes.\n",
    "\n",
    "**The Attributes of the Dataset**:\n",
    "1. Title: \n",
    "         Title of the News, containing 17903 unique values\n",
    "2. Text:\n",
    "         Text Attribute consists of the news written/published in the articles.\n",
    "3. Subject:\n",
    "          The Subject Attribute contains the type of news like Political News, World News or just the regular news.\n",
    "4. Date:\n",
    "          The date attribute contains the date that this article was posted at.\n",
    "        \n",
    "\n",
    "\n",
    "## Project:\n",
    "The project **Fake News Classifier** is a part of Big Data  Course Project.This Project is completed under Dr.Kanishka Tyagi.In this Project, I made a model analysis so that anyone can choose the best model according to the accuracy of that model to classify the Fake News.In this Project I used Two Methods in NLP, **Bag of Words** and **TF-IDF**. **Multinomial Naive Bayes** for the Model Training\n"
   ]
  },
  {
   "cell_type": "markdown",
   "id": "a1e81529",
   "metadata": {},
   "source": [
    "## The Model is trained on the basis of 'Text of the Article' in the Dataset"
   ]
  },
  {
   "cell_type": "markdown",
   "id": "468e1add",
   "metadata": {},
   "source": [
    "lets install all the required libraries to download the dataset"
   ]
  },
  {
   "cell_type": "code",
   "execution_count": 56,
   "id": "8a381251",
   "metadata": {},
   "outputs": [],
   "source": [
    "!pip install pandas opendatasets --upgrade --quiet"
   ]
  },
  {
   "cell_type": "code",
   "execution_count": 57,
   "id": "deb121fb",
   "metadata": {},
   "outputs": [],
   "source": [
    "import pandas as pd\n",
    "import opendatasets as opd"
   ]
  },
  {
   "cell_type": "markdown",
   "id": "02da8be0",
   "metadata": {},
   "source": [
    "## Download \n",
    "\n",
    "There are several ways to download the dataset and upload it into your jupyter notebook.\n",
    "Here is one of the method I am using in this project:\n",
    "1. Install the [opendatasets](https://github.com/JovianML/opendatasets#opendatasets) library into your Notebook.\n",
    "2. Copy the URL of the dataset and save the URL into a variable.\n",
    "3. Use the 'download' function to download the csv file of the dataset.\n",
    "4. Now you can insert the csv file to your jupyter notebook and perform several operations."
   ]
  },
  {
   "cell_type": "markdown",
   "id": "2073f834",
   "metadata": {},
   "source": [
    "Through this process you may asked to enter the username and API key of Kaggle Account, You need to input those values to proceed Downloading.In case it is already Installed, it does not required\n",
    "\n",
    "Create an API key in Kaggle.\n",
    "\n",
    "Step 1:  To do this, go to kaggle.com/ and open your user settings page.\n",
    "![image1](https://i.stack.imgur.com/jxGQv.png)\n",
    "\n",
    "Step 2:Next, scroll down to the API access section and click generate to download an API key.\n",
    "![image2](https://i.stack.imgur.com/Hzlhp.png)\n",
    "This will download a file called kaggle.json to your computer. You'll use this file in Jupyter Notebook/Google Colab to access Kaggle datasets and competitions."
   ]
  },
  {
   "cell_type": "code",
   "execution_count": 58,
   "id": "15a6f16e",
   "metadata": {},
   "outputs": [
    {
     "name": "stdout",
     "output_type": "stream",
     "text": [
      "Skipping, found downloaded files in \".\\fake-and-real-news-dataset\" (use force=True to force download)\n"
     ]
    }
   ],
   "source": [
    "opd.download('https://www.kaggle.com/datasets/clmentbisaillon/fake-and-real-news-dataset')"
   ]
  },
  {
   "cell_type": "markdown",
   "id": "f9cfc07f",
   "metadata": {},
   "source": [
    "The dataset thas been downloadeed and extracted"
   ]
  },
  {
   "cell_type": "markdown",
   "id": "6e6fe259",
   "metadata": {},
   "source": [
    "# Data Preperation and Cleaning\n",
    "Lets Load the File 'Fake.csv' into pandas dataframe and perform some cleaning if required."
   ]
  },
  {
   "cell_type": "code",
   "execution_count": 59,
   "id": "157c0112",
   "metadata": {},
   "outputs": [],
   "source": [
    "fake_df = pd.read_csv('./fake-and-real-news-dataset/Fake.csv')"
   ]
  },
  {
   "cell_type": "code",
   "execution_count": 60,
   "id": "6c0dbced",
   "metadata": {},
   "outputs": [
    {
     "data": {
      "text/html": [
       "<div>\n",
       "<style scoped>\n",
       "    .dataframe tbody tr th:only-of-type {\n",
       "        vertical-align: middle;\n",
       "    }\n",
       "\n",
       "    .dataframe tbody tr th {\n",
       "        vertical-align: top;\n",
       "    }\n",
       "\n",
       "    .dataframe thead th {\n",
       "        text-align: right;\n",
       "    }\n",
       "</style>\n",
       "<table border=\"1\" class=\"dataframe\">\n",
       "  <thead>\n",
       "    <tr style=\"text-align: right;\">\n",
       "      <th></th>\n",
       "      <th>title</th>\n",
       "      <th>text</th>\n",
       "      <th>subject</th>\n",
       "      <th>date</th>\n",
       "    </tr>\n",
       "  </thead>\n",
       "  <tbody>\n",
       "    <tr>\n",
       "      <th>0</th>\n",
       "      <td>Donald Trump Sends Out Embarrassing New Year’...</td>\n",
       "      <td>Donald Trump just couldn t wish all Americans ...</td>\n",
       "      <td>News</td>\n",
       "      <td>December 31, 2017</td>\n",
       "    </tr>\n",
       "    <tr>\n",
       "      <th>1</th>\n",
       "      <td>Drunk Bragging Trump Staffer Started Russian ...</td>\n",
       "      <td>House Intelligence Committee Chairman Devin Nu...</td>\n",
       "      <td>News</td>\n",
       "      <td>December 31, 2017</td>\n",
       "    </tr>\n",
       "    <tr>\n",
       "      <th>2</th>\n",
       "      <td>Sheriff David Clarke Becomes An Internet Joke...</td>\n",
       "      <td>On Friday, it was revealed that former Milwauk...</td>\n",
       "      <td>News</td>\n",
       "      <td>December 30, 2017</td>\n",
       "    </tr>\n",
       "    <tr>\n",
       "      <th>3</th>\n",
       "      <td>Trump Is So Obsessed He Even Has Obama’s Name...</td>\n",
       "      <td>On Christmas day, Donald Trump announced that ...</td>\n",
       "      <td>News</td>\n",
       "      <td>December 29, 2017</td>\n",
       "    </tr>\n",
       "    <tr>\n",
       "      <th>4</th>\n",
       "      <td>Pope Francis Just Called Out Donald Trump Dur...</td>\n",
       "      <td>Pope Francis used his annual Christmas Day mes...</td>\n",
       "      <td>News</td>\n",
       "      <td>December 25, 2017</td>\n",
       "    </tr>\n",
       "  </tbody>\n",
       "</table>\n",
       "</div>"
      ],
      "text/plain": [
       "                                               title  \\\n",
       "0   Donald Trump Sends Out Embarrassing New Year’...   \n",
       "1   Drunk Bragging Trump Staffer Started Russian ...   \n",
       "2   Sheriff David Clarke Becomes An Internet Joke...   \n",
       "3   Trump Is So Obsessed He Even Has Obama’s Name...   \n",
       "4   Pope Francis Just Called Out Donald Trump Dur...   \n",
       "\n",
       "                                                text subject  \\\n",
       "0  Donald Trump just couldn t wish all Americans ...    News   \n",
       "1  House Intelligence Committee Chairman Devin Nu...    News   \n",
       "2  On Friday, it was revealed that former Milwauk...    News   \n",
       "3  On Christmas day, Donald Trump announced that ...    News   \n",
       "4  Pope Francis used his annual Christmas Day mes...    News   \n",
       "\n",
       "                date  \n",
       "0  December 31, 2017  \n",
       "1  December 31, 2017  \n",
       "2  December 30, 2017  \n",
       "3  December 29, 2017  \n",
       "4  December 25, 2017  "
      ]
     },
     "execution_count": 60,
     "metadata": {},
     "output_type": "execute_result"
    }
   ],
   "source": [
    "fake_df.head()"
   ]
  },
  {
   "cell_type": "markdown",
   "id": "443a0192",
   "metadata": {},
   "source": [
    "**.columns()** method give the list of all the attributes presented in the dataset."
   ]
  },
  {
   "cell_type": "code",
   "execution_count": 61,
   "id": "0cbf270f",
   "metadata": {},
   "outputs": [
    {
     "data": {
      "text/plain": [
       "Index(['title', 'text', 'subject', 'date'], dtype='object')"
      ]
     },
     "execution_count": 61,
     "metadata": {},
     "output_type": "execute_result"
    }
   ],
   "source": [
    "fake_df.columns"
   ]
  },
  {
   "cell_type": "markdown",
   "id": "15421d0d",
   "metadata": {},
   "source": [
    "**.count()** method provides the Total Number of values present in the Dataset"
   ]
  },
  {
   "cell_type": "code",
   "execution_count": 62,
   "id": "630e1bc5",
   "metadata": {},
   "outputs": [
    {
     "data": {
      "text/plain": [
       "title      23481\n",
       "text       23481\n",
       "subject    23481\n",
       "date       23481\n",
       "dtype: int64"
      ]
     },
     "execution_count": 62,
     "metadata": {},
     "output_type": "execute_result"
    }
   ],
   "source": [
    "fake_df.count()"
   ]
  },
  {
   "cell_type": "markdown",
   "id": "d902575e",
   "metadata": {},
   "source": [
    "### Checking if there any NULL values present in the Fake Dataframe"
   ]
  },
  {
   "cell_type": "markdown",
   "id": "ca5c700c",
   "metadata": {},
   "source": [
    "**.info()** provides all the information regarding the attributes in the dataset."
   ]
  },
  {
   "cell_type": "code",
   "execution_count": 63,
   "id": "213306c7",
   "metadata": {},
   "outputs": [
    {
     "name": "stdout",
     "output_type": "stream",
     "text": [
      "<class 'pandas.core.frame.DataFrame'>\n",
      "RangeIndex: 23481 entries, 0 to 23480\n",
      "Data columns (total 4 columns):\n",
      " #   Column   Non-Null Count  Dtype \n",
      "---  ------   --------------  ----- \n",
      " 0   title    23481 non-null  object\n",
      " 1   text     23481 non-null  object\n",
      " 2   subject  23481 non-null  object\n",
      " 3   date     23481 non-null  object\n",
      "dtypes: object(4)\n",
      "memory usage: 733.9+ KB\n"
     ]
    }
   ],
   "source": [
    "fake_df.info()"
   ]
  },
  {
   "cell_type": "markdown",
   "id": "504447c8",
   "metadata": {},
   "source": [
    "As there are no NULL values in the datset. let's move on to the next step."
   ]
  },
  {
   "cell_type": "code",
   "execution_count": 64,
   "id": "255afd22",
   "metadata": {},
   "outputs": [
    {
     "data": {
      "text/plain": [
       "Index           128\n",
       "title       5380518\n",
       "text       61153828\n",
       "subject     1507065\n",
       "date        1646426\n",
       "dtype: int64"
      ]
     },
     "execution_count": 64,
     "metadata": {},
     "output_type": "execute_result"
    }
   ],
   "source": [
    "fake_df.memory_usage(deep = True)"
   ]
  },
  {
   "cell_type": "markdown",
   "id": "0c2f6d14",
   "metadata": {},
   "source": [
    "As we are only preparing model using 'title' attribute in the dataset, Here seperating the 'title' column from the dataframe and aperform some operations"
   ]
  },
  {
   "cell_type": "code",
   "execution_count": 65,
   "id": "74bc650e",
   "metadata": {},
   "outputs": [],
   "source": [
    "df_f = fake_df.loc[ : ,['title']]"
   ]
  },
  {
   "cell_type": "code",
   "execution_count": 66,
   "id": "558fc782",
   "metadata": {},
   "outputs": [
    {
     "data": {
      "text/html": [
       "<div>\n",
       "<style scoped>\n",
       "    .dataframe tbody tr th:only-of-type {\n",
       "        vertical-align: middle;\n",
       "    }\n",
       "\n",
       "    .dataframe tbody tr th {\n",
       "        vertical-align: top;\n",
       "    }\n",
       "\n",
       "    .dataframe thead th {\n",
       "        text-align: right;\n",
       "    }\n",
       "</style>\n",
       "<table border=\"1\" class=\"dataframe\">\n",
       "  <thead>\n",
       "    <tr style=\"text-align: right;\">\n",
       "      <th></th>\n",
       "      <th>title</th>\n",
       "    </tr>\n",
       "  </thead>\n",
       "  <tbody>\n",
       "    <tr>\n",
       "      <th>0</th>\n",
       "      <td>Donald Trump Sends Out Embarrassing New Year’...</td>\n",
       "    </tr>\n",
       "    <tr>\n",
       "      <th>1</th>\n",
       "      <td>Drunk Bragging Trump Staffer Started Russian ...</td>\n",
       "    </tr>\n",
       "    <tr>\n",
       "      <th>2</th>\n",
       "      <td>Sheriff David Clarke Becomes An Internet Joke...</td>\n",
       "    </tr>\n",
       "    <tr>\n",
       "      <th>3</th>\n",
       "      <td>Trump Is So Obsessed He Even Has Obama’s Name...</td>\n",
       "    </tr>\n",
       "    <tr>\n",
       "      <th>4</th>\n",
       "      <td>Pope Francis Just Called Out Donald Trump Dur...</td>\n",
       "    </tr>\n",
       "  </tbody>\n",
       "</table>\n",
       "</div>"
      ],
      "text/plain": [
       "                                               title\n",
       "0   Donald Trump Sends Out Embarrassing New Year’...\n",
       "1   Drunk Bragging Trump Staffer Started Russian ...\n",
       "2   Sheriff David Clarke Becomes An Internet Joke...\n",
       "3   Trump Is So Obsessed He Even Has Obama’s Name...\n",
       "4   Pope Francis Just Called Out Donald Trump Dur..."
      ]
     },
     "execution_count": 66,
     "metadata": {},
     "output_type": "execute_result"
    }
   ],
   "source": [
    "df_f.head()"
   ]
  },
  {
   "cell_type": "markdown",
   "id": "a1287b5a",
   "metadata": {},
   "source": [
    "### Checking for the Duplicate Values in the Fake Dataframe"
   ]
  },
  {
   "cell_type": "code",
   "execution_count": 67,
   "id": "f7a160c8",
   "metadata": {},
   "outputs": [
    {
     "data": {
      "text/plain": [
       "title    23481\n",
       "dtype: int64"
      ]
     },
     "execution_count": 67,
     "metadata": {},
     "output_type": "execute_result"
    }
   ],
   "source": [
    "df_f.count()"
   ]
  },
  {
   "cell_type": "markdown",
   "id": "02fb7d9b",
   "metadata": {},
   "source": [
    "Here the Total number of values in the dataset is **23481**"
   ]
  },
  {
   "cell_type": "markdown",
   "id": "0f67ac42",
   "metadata": {},
   "source": [
    "Finding out the total number of unique values in the dataset"
   ]
  },
  {
   "cell_type": "code",
   "execution_count": 68,
   "id": "fe5a1de1",
   "metadata": {},
   "outputs": [
    {
     "name": "stdout",
     "output_type": "stream",
     "text": [
      "17903\n"
     ]
    }
   ],
   "source": [
    "n = len(pd.unique(df_f['title']))\n",
    "print(n)"
   ]
  },
  {
   "cell_type": "markdown",
   "id": "d96b213d",
   "metadata": {},
   "source": [
    "Here the Total Number of Unique Values are **17904** , Remaining **5577** isn't useful for training the model so let's delete them from the dataset"
   ]
  },
  {
   "cell_type": "code",
   "execution_count": 69,
   "id": "0a45e42b",
   "metadata": {},
   "outputs": [],
   "source": [
    "df_f.drop_duplicates(inplace=True)"
   ]
  },
  {
   "cell_type": "code",
   "execution_count": 70,
   "id": "474e54df",
   "metadata": {},
   "outputs": [
    {
     "data": {
      "text/plain": [
       "title    17903\n",
       "dtype: int64"
      ]
     },
     "execution_count": 70,
     "metadata": {},
     "output_type": "execute_result"
    }
   ],
   "source": [
    "df_f.count()"
   ]
  },
  {
   "cell_type": "markdown",
   "id": "9f93adf6",
   "metadata": {},
   "source": [
    "Now, The Duplicate values has been removed from the dataset."
   ]
  },
  {
   "cell_type": "code",
   "execution_count": 71,
   "id": "e8d13d34",
   "metadata": {},
   "outputs": [
    {
     "data": {
      "text/html": [
       "<div>\n",
       "<style scoped>\n",
       "    .dataframe tbody tr th:only-of-type {\n",
       "        vertical-align: middle;\n",
       "    }\n",
       "\n",
       "    .dataframe tbody tr th {\n",
       "        vertical-align: top;\n",
       "    }\n",
       "\n",
       "    .dataframe thead th {\n",
       "        text-align: right;\n",
       "    }\n",
       "</style>\n",
       "<table border=\"1\" class=\"dataframe\">\n",
       "  <thead>\n",
       "    <tr style=\"text-align: right;\">\n",
       "      <th></th>\n",
       "      <th>title</th>\n",
       "    </tr>\n",
       "  </thead>\n",
       "  <tbody>\n",
       "    <tr>\n",
       "      <th>0</th>\n",
       "      <td>Donald Trump Sends Out Embarrassing New Year’...</td>\n",
       "    </tr>\n",
       "    <tr>\n",
       "      <th>1</th>\n",
       "      <td>Drunk Bragging Trump Staffer Started Russian ...</td>\n",
       "    </tr>\n",
       "    <tr>\n",
       "      <th>2</th>\n",
       "      <td>Sheriff David Clarke Becomes An Internet Joke...</td>\n",
       "    </tr>\n",
       "    <tr>\n",
       "      <th>3</th>\n",
       "      <td>Trump Is So Obsessed He Even Has Obama’s Name...</td>\n",
       "    </tr>\n",
       "    <tr>\n",
       "      <th>4</th>\n",
       "      <td>Pope Francis Just Called Out Donald Trump Dur...</td>\n",
       "    </tr>\n",
       "  </tbody>\n",
       "</table>\n",
       "</div>"
      ],
      "text/plain": [
       "                                               title\n",
       "0   Donald Trump Sends Out Embarrassing New Year’...\n",
       "1   Drunk Bragging Trump Staffer Started Russian ...\n",
       "2   Sheriff David Clarke Becomes An Internet Joke...\n",
       "3   Trump Is So Obsessed He Even Has Obama’s Name...\n",
       "4   Pope Francis Just Called Out Donald Trump Dur..."
      ]
     },
     "execution_count": 71,
     "metadata": {},
     "output_type": "execute_result"
    }
   ],
   "source": [
    "df_f.head(5)"
   ]
  },
  {
   "cell_type": "markdown",
   "id": "1e64a00e",
   "metadata": {},
   "source": [
    "Adding a new column named **TorF** to the dataset to identify wheather the news is Fake or True. For this dataset every value is assigned as 0 as every news is Fake. "
   ]
  },
  {
   "cell_type": "code",
   "execution_count": 72,
   "id": "857b53ff",
   "metadata": {},
   "outputs": [],
   "source": [
    "df_f['TorF'] = 0"
   ]
  },
  {
   "cell_type": "code",
   "execution_count": 73,
   "id": "b42befdf",
   "metadata": {},
   "outputs": [
    {
     "data": {
      "text/html": [
       "<div>\n",
       "<style scoped>\n",
       "    .dataframe tbody tr th:only-of-type {\n",
       "        vertical-align: middle;\n",
       "    }\n",
       "\n",
       "    .dataframe tbody tr th {\n",
       "        vertical-align: top;\n",
       "    }\n",
       "\n",
       "    .dataframe thead th {\n",
       "        text-align: right;\n",
       "    }\n",
       "</style>\n",
       "<table border=\"1\" class=\"dataframe\">\n",
       "  <thead>\n",
       "    <tr style=\"text-align: right;\">\n",
       "      <th></th>\n",
       "      <th>title</th>\n",
       "      <th>TorF</th>\n",
       "    </tr>\n",
       "  </thead>\n",
       "  <tbody>\n",
       "    <tr>\n",
       "      <th>0</th>\n",
       "      <td>Donald Trump Sends Out Embarrassing New Year’...</td>\n",
       "      <td>0</td>\n",
       "    </tr>\n",
       "    <tr>\n",
       "      <th>1</th>\n",
       "      <td>Drunk Bragging Trump Staffer Started Russian ...</td>\n",
       "      <td>0</td>\n",
       "    </tr>\n",
       "    <tr>\n",
       "      <th>2</th>\n",
       "      <td>Sheriff David Clarke Becomes An Internet Joke...</td>\n",
       "      <td>0</td>\n",
       "    </tr>\n",
       "    <tr>\n",
       "      <th>3</th>\n",
       "      <td>Trump Is So Obsessed He Even Has Obama’s Name...</td>\n",
       "      <td>0</td>\n",
       "    </tr>\n",
       "    <tr>\n",
       "      <th>4</th>\n",
       "      <td>Pope Francis Just Called Out Donald Trump Dur...</td>\n",
       "      <td>0</td>\n",
       "    </tr>\n",
       "  </tbody>\n",
       "</table>\n",
       "</div>"
      ],
      "text/plain": [
       "                                               title  TorF\n",
       "0   Donald Trump Sends Out Embarrassing New Year’...     0\n",
       "1   Drunk Bragging Trump Staffer Started Russian ...     0\n",
       "2   Sheriff David Clarke Becomes An Internet Joke...     0\n",
       "3   Trump Is So Obsessed He Even Has Obama’s Name...     0\n",
       "4   Pope Francis Just Called Out Donald Trump Dur...     0"
      ]
     },
     "execution_count": 73,
     "metadata": {},
     "output_type": "execute_result"
    }
   ],
   "source": [
    "df_f.head(5)"
   ]
  },
  {
   "cell_type": "markdown",
   "id": "ca8625f4",
   "metadata": {},
   "source": [
    "Shuffling the Fake Dataframe"
   ]
  },
  {
   "cell_type": "code",
   "execution_count": 74,
   "id": "18a7e626",
   "metadata": {},
   "outputs": [],
   "source": [
    "df_f = df_f.sample(frac=1).reset_index(drop=True)"
   ]
  },
  {
   "cell_type": "code",
   "execution_count": 75,
   "id": "417d835c",
   "metadata": {},
   "outputs": [
    {
     "data": {
      "text/html": [
       "<div>\n",
       "<style scoped>\n",
       "    .dataframe tbody tr th:only-of-type {\n",
       "        vertical-align: middle;\n",
       "    }\n",
       "\n",
       "    .dataframe tbody tr th {\n",
       "        vertical-align: top;\n",
       "    }\n",
       "\n",
       "    .dataframe thead th {\n",
       "        text-align: right;\n",
       "    }\n",
       "</style>\n",
       "<table border=\"1\" class=\"dataframe\">\n",
       "  <thead>\n",
       "    <tr style=\"text-align: right;\">\n",
       "      <th></th>\n",
       "      <th>title</th>\n",
       "      <th>TorF</th>\n",
       "    </tr>\n",
       "  </thead>\n",
       "  <tbody>\n",
       "    <tr>\n",
       "      <th>0</th>\n",
       "      <td>SAY WHAT?! Muslim Women Can Now Cover Their Fa...</td>\n",
       "      <td>0</td>\n",
       "    </tr>\n",
       "    <tr>\n",
       "      <th>1</th>\n",
       "      <td>Republicans Had Total Control Of This State A...</td>\n",
       "      <td>0</td>\n",
       "    </tr>\n",
       "    <tr>\n",
       "      <th>2</th>\n",
       "      <td>KARMA: GAY PASTOR SUES WHOLE FOODS For “Anti-G...</td>\n",
       "      <td>0</td>\n",
       "    </tr>\n",
       "    <tr>\n",
       "      <th>3</th>\n",
       "      <td>“ENTITLED” DEM REP. SHEILA JACKSON LEE Has Bee...</td>\n",
       "      <td>0</td>\n",
       "    </tr>\n",
       "    <tr>\n",
       "      <th>4</th>\n",
       "      <td>WOW! Why George W. Bush Never Left DC Until Af...</td>\n",
       "      <td>0</td>\n",
       "    </tr>\n",
       "    <tr>\n",
       "      <th>5</th>\n",
       "      <td>Watergate Reporter Says Trump’s Russia Scanda...</td>\n",
       "      <td>0</td>\n",
       "    </tr>\n",
       "    <tr>\n",
       "      <th>6</th>\n",
       "      <td>Chuck Schumer Has A BRILLIANT Response To Tru...</td>\n",
       "      <td>0</td>\n",
       "    </tr>\n",
       "    <tr>\n",
       "      <th>7</th>\n",
       "      <td>Breaking: Disrespectful NFL Teams Visiting Lon...</td>\n",
       "      <td>0</td>\n",
       "    </tr>\n",
       "    <tr>\n",
       "      <th>8</th>\n",
       "      <td>WIKILEAKS PROVES Hillary Gave Weapons To ISIS</td>\n",
       "      <td>0</td>\n",
       "    </tr>\n",
       "    <tr>\n",
       "      <th>9</th>\n",
       "      <td>(VIDEO) REMEMBER THE “OBAMAPHONE”? GET READY T...</td>\n",
       "      <td>0</td>\n",
       "    </tr>\n",
       "  </tbody>\n",
       "</table>\n",
       "</div>"
      ],
      "text/plain": [
       "                                               title  TorF\n",
       "0  SAY WHAT?! Muslim Women Can Now Cover Their Fa...     0\n",
       "1   Republicans Had Total Control Of This State A...     0\n",
       "2  KARMA: GAY PASTOR SUES WHOLE FOODS For “Anti-G...     0\n",
       "3  “ENTITLED” DEM REP. SHEILA JACKSON LEE Has Bee...     0\n",
       "4  WOW! Why George W. Bush Never Left DC Until Af...     0\n",
       "5   Watergate Reporter Says Trump’s Russia Scanda...     0\n",
       "6   Chuck Schumer Has A BRILLIANT Response To Tru...     0\n",
       "7  Breaking: Disrespectful NFL Teams Visiting Lon...     0\n",
       "8      WIKILEAKS PROVES Hillary Gave Weapons To ISIS     0\n",
       "9  (VIDEO) REMEMBER THE “OBAMAPHONE”? GET READY T...     0"
      ]
     },
     "execution_count": 75,
     "metadata": {},
     "output_type": "execute_result"
    }
   ],
   "source": [
    "df_f.head(10)"
   ]
  },
  {
   "cell_type": "markdown",
   "id": "ece8a457",
   "metadata": {},
   "source": [
    "### Performing the Similar Operations on the True News Dataset"
   ]
  },
  {
   "cell_type": "markdown",
   "id": "e34b3c9a",
   "metadata": {},
   "source": [
    "Converting **True.csv** into Pandas Dataframe"
   ]
  },
  {
   "cell_type": "code",
   "execution_count": 76,
   "id": "4b51a85f",
   "metadata": {},
   "outputs": [],
   "source": [
    "True_df = pd.read_csv('./fake-and-real-news-dataset/True.csv')"
   ]
  },
  {
   "cell_type": "code",
   "execution_count": 77,
   "id": "1a728439",
   "metadata": {},
   "outputs": [
    {
     "data": {
      "text/html": [
       "<div>\n",
       "<style scoped>\n",
       "    .dataframe tbody tr th:only-of-type {\n",
       "        vertical-align: middle;\n",
       "    }\n",
       "\n",
       "    .dataframe tbody tr th {\n",
       "        vertical-align: top;\n",
       "    }\n",
       "\n",
       "    .dataframe thead th {\n",
       "        text-align: right;\n",
       "    }\n",
       "</style>\n",
       "<table border=\"1\" class=\"dataframe\">\n",
       "  <thead>\n",
       "    <tr style=\"text-align: right;\">\n",
       "      <th></th>\n",
       "      <th>title</th>\n",
       "      <th>text</th>\n",
       "      <th>subject</th>\n",
       "      <th>date</th>\n",
       "    </tr>\n",
       "  </thead>\n",
       "  <tbody>\n",
       "    <tr>\n",
       "      <th>0</th>\n",
       "      <td>As U.S. budget fight looms, Republicans flip t...</td>\n",
       "      <td>WASHINGTON (Reuters) - The head of a conservat...</td>\n",
       "      <td>politicsNews</td>\n",
       "      <td>December 31, 2017</td>\n",
       "    </tr>\n",
       "    <tr>\n",
       "      <th>1</th>\n",
       "      <td>U.S. military to accept transgender recruits o...</td>\n",
       "      <td>WASHINGTON (Reuters) - Transgender people will...</td>\n",
       "      <td>politicsNews</td>\n",
       "      <td>December 29, 2017</td>\n",
       "    </tr>\n",
       "    <tr>\n",
       "      <th>2</th>\n",
       "      <td>Senior U.S. Republican senator: 'Let Mr. Muell...</td>\n",
       "      <td>WASHINGTON (Reuters) - The special counsel inv...</td>\n",
       "      <td>politicsNews</td>\n",
       "      <td>December 31, 2017</td>\n",
       "    </tr>\n",
       "    <tr>\n",
       "      <th>3</th>\n",
       "      <td>FBI Russia probe helped by Australian diplomat...</td>\n",
       "      <td>WASHINGTON (Reuters) - Trump campaign adviser ...</td>\n",
       "      <td>politicsNews</td>\n",
       "      <td>December 30, 2017</td>\n",
       "    </tr>\n",
       "    <tr>\n",
       "      <th>4</th>\n",
       "      <td>Trump wants Postal Service to charge 'much mor...</td>\n",
       "      <td>SEATTLE/WASHINGTON (Reuters) - President Donal...</td>\n",
       "      <td>politicsNews</td>\n",
       "      <td>December 29, 2017</td>\n",
       "    </tr>\n",
       "  </tbody>\n",
       "</table>\n",
       "</div>"
      ],
      "text/plain": [
       "                                               title  \\\n",
       "0  As U.S. budget fight looms, Republicans flip t...   \n",
       "1  U.S. military to accept transgender recruits o...   \n",
       "2  Senior U.S. Republican senator: 'Let Mr. Muell...   \n",
       "3  FBI Russia probe helped by Australian diplomat...   \n",
       "4  Trump wants Postal Service to charge 'much mor...   \n",
       "\n",
       "                                                text       subject  \\\n",
       "0  WASHINGTON (Reuters) - The head of a conservat...  politicsNews   \n",
       "1  WASHINGTON (Reuters) - Transgender people will...  politicsNews   \n",
       "2  WASHINGTON (Reuters) - The special counsel inv...  politicsNews   \n",
       "3  WASHINGTON (Reuters) - Trump campaign adviser ...  politicsNews   \n",
       "4  SEATTLE/WASHINGTON (Reuters) - President Donal...  politicsNews   \n",
       "\n",
       "                 date  \n",
       "0  December 31, 2017   \n",
       "1  December 29, 2017   \n",
       "2  December 31, 2017   \n",
       "3  December 30, 2017   \n",
       "4  December 29, 2017   "
      ]
     },
     "execution_count": 77,
     "metadata": {},
     "output_type": "execute_result"
    }
   ],
   "source": [
    "True_df.head()"
   ]
  },
  {
   "cell_type": "code",
   "execution_count": 78,
   "id": "6602ca76",
   "metadata": {},
   "outputs": [
    {
     "data": {
      "text/plain": [
       "Index(['title', 'text', 'subject', 'date'], dtype='object')"
      ]
     },
     "execution_count": 78,
     "metadata": {},
     "output_type": "execute_result"
    }
   ],
   "source": [
    "True_df.columns"
   ]
  },
  {
   "cell_type": "code",
   "execution_count": 79,
   "id": "81e7d7da",
   "metadata": {},
   "outputs": [
    {
     "data": {
      "text/plain": [
       "title      21417\n",
       "text       21417\n",
       "subject    21417\n",
       "date       21417\n",
       "dtype: int64"
      ]
     },
     "execution_count": 79,
     "metadata": {},
     "output_type": "execute_result"
    }
   ],
   "source": [
    "True_df.count()"
   ]
  },
  {
   "cell_type": "code",
   "execution_count": 80,
   "id": "cf340053",
   "metadata": {},
   "outputs": [
    {
     "name": "stdout",
     "output_type": "stream",
     "text": [
      "<class 'pandas.core.frame.DataFrame'>\n",
      "RangeIndex: 21417 entries, 0 to 21416\n",
      "Data columns (total 4 columns):\n",
      " #   Column   Non-Null Count  Dtype \n",
      "---  ------   --------------  ----- \n",
      " 0   title    21417 non-null  object\n",
      " 1   text     21417 non-null  object\n",
      " 2   subject  21417 non-null  object\n",
      " 3   date     21417 non-null  object\n",
      "dtypes: object(4)\n",
      "memory usage: 669.4+ KB\n"
     ]
    }
   ],
   "source": [
    "True_df.info()"
   ]
  },
  {
   "cell_type": "code",
   "execution_count": 81,
   "id": "bbbdbfb4",
   "metadata": {},
   "outputs": [
    {
     "data": {
      "text/html": [
       "<div>\n",
       "<style scoped>\n",
       "    .dataframe tbody tr th:only-of-type {\n",
       "        vertical-align: middle;\n",
       "    }\n",
       "\n",
       "    .dataframe tbody tr th {\n",
       "        vertical-align: top;\n",
       "    }\n",
       "\n",
       "    .dataframe thead th {\n",
       "        text-align: right;\n",
       "    }\n",
       "</style>\n",
       "<table border=\"1\" class=\"dataframe\">\n",
       "  <thead>\n",
       "    <tr style=\"text-align: right;\">\n",
       "      <th></th>\n",
       "      <th>title</th>\n",
       "      <th>text</th>\n",
       "      <th>subject</th>\n",
       "      <th>date</th>\n",
       "    </tr>\n",
       "  </thead>\n",
       "  <tbody>\n",
       "    <tr>\n",
       "      <th>count</th>\n",
       "      <td>21417</td>\n",
       "      <td>21417</td>\n",
       "      <td>21417</td>\n",
       "      <td>21417</td>\n",
       "    </tr>\n",
       "    <tr>\n",
       "      <th>unique</th>\n",
       "      <td>20826</td>\n",
       "      <td>21192</td>\n",
       "      <td>2</td>\n",
       "      <td>716</td>\n",
       "    </tr>\n",
       "    <tr>\n",
       "      <th>top</th>\n",
       "      <td>Factbox: Trump fills top jobs for his administ...</td>\n",
       "      <td>(Reuters) - Highlights for U.S. President Dona...</td>\n",
       "      <td>politicsNews</td>\n",
       "      <td>December 20, 2017</td>\n",
       "    </tr>\n",
       "    <tr>\n",
       "      <th>freq</th>\n",
       "      <td>14</td>\n",
       "      <td>8</td>\n",
       "      <td>11272</td>\n",
       "      <td>182</td>\n",
       "    </tr>\n",
       "  </tbody>\n",
       "</table>\n",
       "</div>"
      ],
      "text/plain": [
       "                                                    title  \\\n",
       "count                                               21417   \n",
       "unique                                              20826   \n",
       "top     Factbox: Trump fills top jobs for his administ...   \n",
       "freq                                                   14   \n",
       "\n",
       "                                                     text       subject  \\\n",
       "count                                               21417         21417   \n",
       "unique                                              21192             2   \n",
       "top     (Reuters) - Highlights for U.S. President Dona...  politicsNews   \n",
       "freq                                                    8         11272   \n",
       "\n",
       "                      date  \n",
       "count                21417  \n",
       "unique                 716  \n",
       "top     December 20, 2017   \n",
       "freq                   182  "
      ]
     },
     "execution_count": 81,
     "metadata": {},
     "output_type": "execute_result"
    }
   ],
   "source": [
    "True_df.describe()"
   ]
  },
  {
   "cell_type": "code",
   "execution_count": 82,
   "id": "5af16be1",
   "metadata": {},
   "outputs": [
    {
     "data": {
      "text/plain": [
       "Index           128\n",
       "title       2609581\n",
       "text       81025844\n",
       "subject     1447338\n",
       "date        1578819\n",
       "dtype: int64"
      ]
     },
     "execution_count": 82,
     "metadata": {},
     "output_type": "execute_result"
    }
   ],
   "source": [
    "True_df.memory_usage(deep = True)"
   ]
  },
  {
   "cell_type": "markdown",
   "id": "a9428d18",
   "metadata": {},
   "source": [
    "Extracting the **title** attribute from the dataset and perform data cleaning"
   ]
  },
  {
   "cell_type": "code",
   "execution_count": 83,
   "id": "e638c35b",
   "metadata": {},
   "outputs": [],
   "source": [
    "df_t = True_df.loc[ : ,['title']]"
   ]
  },
  {
   "cell_type": "code",
   "execution_count": 84,
   "id": "274045a7",
   "metadata": {},
   "outputs": [
    {
     "data": {
      "text/html": [
       "<div>\n",
       "<style scoped>\n",
       "    .dataframe tbody tr th:only-of-type {\n",
       "        vertical-align: middle;\n",
       "    }\n",
       "\n",
       "    .dataframe tbody tr th {\n",
       "        vertical-align: top;\n",
       "    }\n",
       "\n",
       "    .dataframe thead th {\n",
       "        text-align: right;\n",
       "    }\n",
       "</style>\n",
       "<table border=\"1\" class=\"dataframe\">\n",
       "  <thead>\n",
       "    <tr style=\"text-align: right;\">\n",
       "      <th></th>\n",
       "      <th>title</th>\n",
       "    </tr>\n",
       "  </thead>\n",
       "  <tbody>\n",
       "    <tr>\n",
       "      <th>0</th>\n",
       "      <td>As U.S. budget fight looms, Republicans flip t...</td>\n",
       "    </tr>\n",
       "    <tr>\n",
       "      <th>1</th>\n",
       "      <td>U.S. military to accept transgender recruits o...</td>\n",
       "    </tr>\n",
       "    <tr>\n",
       "      <th>2</th>\n",
       "      <td>Senior U.S. Republican senator: 'Let Mr. Muell...</td>\n",
       "    </tr>\n",
       "    <tr>\n",
       "      <th>3</th>\n",
       "      <td>FBI Russia probe helped by Australian diplomat...</td>\n",
       "    </tr>\n",
       "    <tr>\n",
       "      <th>4</th>\n",
       "      <td>Trump wants Postal Service to charge 'much mor...</td>\n",
       "    </tr>\n",
       "  </tbody>\n",
       "</table>\n",
       "</div>"
      ],
      "text/plain": [
       "                                               title\n",
       "0  As U.S. budget fight looms, Republicans flip t...\n",
       "1  U.S. military to accept transgender recruits o...\n",
       "2  Senior U.S. Republican senator: 'Let Mr. Muell...\n",
       "3  FBI Russia probe helped by Australian diplomat...\n",
       "4  Trump wants Postal Service to charge 'much mor..."
      ]
     },
     "execution_count": 84,
     "metadata": {},
     "output_type": "execute_result"
    }
   ],
   "source": [
    "df_t.head()"
   ]
  },
  {
   "cell_type": "markdown",
   "id": "5c5b6072",
   "metadata": {},
   "source": [
    "### Finding out the Total number of duplicate values in the True datsframe"
   ]
  },
  {
   "cell_type": "code",
   "execution_count": 85,
   "id": "a002c0c2",
   "metadata": {},
   "outputs": [
    {
     "data": {
      "text/plain": [
       "title    21417\n",
       "dtype: int64"
      ]
     },
     "execution_count": 85,
     "metadata": {},
     "output_type": "execute_result"
    }
   ],
   "source": [
    "df_t.count()"
   ]
  },
  {
   "cell_type": "markdown",
   "id": "2e397d63",
   "metadata": {},
   "source": [
    "The Total Number of values in the True Dataframe are **21417**"
   ]
  },
  {
   "cell_type": "markdown",
   "id": "9ec5f826",
   "metadata": {},
   "source": [
    "Finding out the Total Number of Unique Values in the True Dataframe"
   ]
  },
  {
   "cell_type": "code",
   "execution_count": 86,
   "id": "53390771",
   "metadata": {},
   "outputs": [
    {
     "name": "stdout",
     "output_type": "stream",
     "text": [
      "20826\n"
     ]
    }
   ],
   "source": [
    "n = len(pd.unique(df_t['title']))\n",
    "print(n)"
   ]
  },
  {
   "cell_type": "markdown",
   "id": "fce2796a",
   "metadata": {},
   "source": [
    "There are **20826** unique values in the True Dataframe. So, there are 591 duplicate values in the dataframe."
   ]
  },
  {
   "cell_type": "markdown",
   "id": "0cdd999a",
   "metadata": {},
   "source": [
    "Removing the Duplicate Values in the Dataframe"
   ]
  },
  {
   "cell_type": "code",
   "execution_count": 87,
   "id": "263dc3df",
   "metadata": {},
   "outputs": [],
   "source": [
    "df_t.drop_duplicates(inplace=True)"
   ]
  },
  {
   "cell_type": "code",
   "execution_count": 88,
   "id": "3ad07440",
   "metadata": {},
   "outputs": [
    {
     "data": {
      "text/plain": [
       "title    20826\n",
       "dtype: int64"
      ]
     },
     "execution_count": 88,
     "metadata": {},
     "output_type": "execute_result"
    }
   ],
   "source": [
    "df_t.count()"
   ]
  },
  {
   "cell_type": "code",
   "execution_count": 89,
   "id": "4544615a",
   "metadata": {},
   "outputs": [
    {
     "data": {
      "text/html": [
       "<div>\n",
       "<style scoped>\n",
       "    .dataframe tbody tr th:only-of-type {\n",
       "        vertical-align: middle;\n",
       "    }\n",
       "\n",
       "    .dataframe tbody tr th {\n",
       "        vertical-align: top;\n",
       "    }\n",
       "\n",
       "    .dataframe thead th {\n",
       "        text-align: right;\n",
       "    }\n",
       "</style>\n",
       "<table border=\"1\" class=\"dataframe\">\n",
       "  <thead>\n",
       "    <tr style=\"text-align: right;\">\n",
       "      <th></th>\n",
       "      <th>title</th>\n",
       "    </tr>\n",
       "  </thead>\n",
       "  <tbody>\n",
       "    <tr>\n",
       "      <th>0</th>\n",
       "      <td>As U.S. budget fight looms, Republicans flip t...</td>\n",
       "    </tr>\n",
       "    <tr>\n",
       "      <th>1</th>\n",
       "      <td>U.S. military to accept transgender recruits o...</td>\n",
       "    </tr>\n",
       "    <tr>\n",
       "      <th>2</th>\n",
       "      <td>Senior U.S. Republican senator: 'Let Mr. Muell...</td>\n",
       "    </tr>\n",
       "    <tr>\n",
       "      <th>3</th>\n",
       "      <td>FBI Russia probe helped by Australian diplomat...</td>\n",
       "    </tr>\n",
       "    <tr>\n",
       "      <th>4</th>\n",
       "      <td>Trump wants Postal Service to charge 'much mor...</td>\n",
       "    </tr>\n",
       "  </tbody>\n",
       "</table>\n",
       "</div>"
      ],
      "text/plain": [
       "                                               title\n",
       "0  As U.S. budget fight looms, Republicans flip t...\n",
       "1  U.S. military to accept transgender recruits o...\n",
       "2  Senior U.S. Republican senator: 'Let Mr. Muell...\n",
       "3  FBI Russia probe helped by Australian diplomat...\n",
       "4  Trump wants Postal Service to charge 'much mor..."
      ]
     },
     "execution_count": 89,
     "metadata": {},
     "output_type": "execute_result"
    }
   ],
   "source": [
    "df_t.head()"
   ]
  },
  {
   "cell_type": "markdown",
   "id": "fc2a61a3",
   "metadata": {},
   "source": [
    "Adding a new column **TorF** to differentiate the fake news ."
   ]
  },
  {
   "cell_type": "code",
   "execution_count": 90,
   "id": "38ca61cf",
   "metadata": {},
   "outputs": [],
   "source": [
    "df_t['TorF'] = 1"
   ]
  },
  {
   "cell_type": "markdown",
   "id": "fef1eac3",
   "metadata": {},
   "source": [
    "Here all the values are assigned **1** beacuse the present dataset contains all the true news."
   ]
  },
  {
   "cell_type": "code",
   "execution_count": 91,
   "id": "92cbd01b",
   "metadata": {},
   "outputs": [
    {
     "data": {
      "text/html": [
       "<div>\n",
       "<style scoped>\n",
       "    .dataframe tbody tr th:only-of-type {\n",
       "        vertical-align: middle;\n",
       "    }\n",
       "\n",
       "    .dataframe tbody tr th {\n",
       "        vertical-align: top;\n",
       "    }\n",
       "\n",
       "    .dataframe thead th {\n",
       "        text-align: right;\n",
       "    }\n",
       "</style>\n",
       "<table border=\"1\" class=\"dataframe\">\n",
       "  <thead>\n",
       "    <tr style=\"text-align: right;\">\n",
       "      <th></th>\n",
       "      <th>title</th>\n",
       "      <th>TorF</th>\n",
       "    </tr>\n",
       "  </thead>\n",
       "  <tbody>\n",
       "    <tr>\n",
       "      <th>0</th>\n",
       "      <td>As U.S. budget fight looms, Republicans flip t...</td>\n",
       "      <td>1</td>\n",
       "    </tr>\n",
       "    <tr>\n",
       "      <th>1</th>\n",
       "      <td>U.S. military to accept transgender recruits o...</td>\n",
       "      <td>1</td>\n",
       "    </tr>\n",
       "    <tr>\n",
       "      <th>2</th>\n",
       "      <td>Senior U.S. Republican senator: 'Let Mr. Muell...</td>\n",
       "      <td>1</td>\n",
       "    </tr>\n",
       "    <tr>\n",
       "      <th>3</th>\n",
       "      <td>FBI Russia probe helped by Australian diplomat...</td>\n",
       "      <td>1</td>\n",
       "    </tr>\n",
       "    <tr>\n",
       "      <th>4</th>\n",
       "      <td>Trump wants Postal Service to charge 'much mor...</td>\n",
       "      <td>1</td>\n",
       "    </tr>\n",
       "  </tbody>\n",
       "</table>\n",
       "</div>"
      ],
      "text/plain": [
       "                                               title  TorF\n",
       "0  As U.S. budget fight looms, Republicans flip t...     1\n",
       "1  U.S. military to accept transgender recruits o...     1\n",
       "2  Senior U.S. Republican senator: 'Let Mr. Muell...     1\n",
       "3  FBI Russia probe helped by Australian diplomat...     1\n",
       "4  Trump wants Postal Service to charge 'much mor...     1"
      ]
     },
     "execution_count": 91,
     "metadata": {},
     "output_type": "execute_result"
    }
   ],
   "source": [
    "df_t.head()"
   ]
  },
  {
   "cell_type": "markdown",
   "id": "052bb53e",
   "metadata": {},
   "source": [
    "Shuffling the Dataframe"
   ]
  },
  {
   "cell_type": "code",
   "execution_count": 92,
   "id": "db979a42",
   "metadata": {},
   "outputs": [],
   "source": [
    "df_t = df_t.sample(frac=1).reset_index(drop=True)"
   ]
  },
  {
   "cell_type": "code",
   "execution_count": 93,
   "id": "cc94406c",
   "metadata": {},
   "outputs": [
    {
     "data": {
      "text/html": [
       "<div>\n",
       "<style scoped>\n",
       "    .dataframe tbody tr th:only-of-type {\n",
       "        vertical-align: middle;\n",
       "    }\n",
       "\n",
       "    .dataframe tbody tr th {\n",
       "        vertical-align: top;\n",
       "    }\n",
       "\n",
       "    .dataframe thead th {\n",
       "        text-align: right;\n",
       "    }\n",
       "</style>\n",
       "<table border=\"1\" class=\"dataframe\">\n",
       "  <thead>\n",
       "    <tr style=\"text-align: right;\">\n",
       "      <th></th>\n",
       "      <th>title</th>\n",
       "      <th>TorF</th>\n",
       "    </tr>\n",
       "  </thead>\n",
       "  <tbody>\n",
       "    <tr>\n",
       "      <th>0</th>\n",
       "      <td>More than 60 killed in air strike on Syrian ma...</td>\n",
       "      <td>1</td>\n",
       "    </tr>\n",
       "    <tr>\n",
       "      <th>1</th>\n",
       "      <td>Brazil's Meirelles jokes about a vice presiden...</td>\n",
       "      <td>1</td>\n",
       "    </tr>\n",
       "    <tr>\n",
       "      <th>2</th>\n",
       "      <td>Trump reassures farmers immigration crackdown ...</td>\n",
       "      <td>1</td>\n",
       "    </tr>\n",
       "    <tr>\n",
       "      <th>3</th>\n",
       "      <td>At least 29 dead after Islamist attack on Soma...</td>\n",
       "      <td>1</td>\n",
       "    </tr>\n",
       "    <tr>\n",
       "      <th>4</th>\n",
       "      <td>Oil mogul Hamm tops Trump list for U.S. energy...</td>\n",
       "      <td>1</td>\n",
       "    </tr>\n",
       "    <tr>\n",
       "      <th>5</th>\n",
       "      <td>Australia to move 200 asylum seekers to new PN...</td>\n",
       "      <td>1</td>\n",
       "    </tr>\n",
       "    <tr>\n",
       "      <th>6</th>\n",
       "      <td>Lights back on in Venezuela after five-hour bl...</td>\n",
       "      <td>1</td>\n",
       "    </tr>\n",
       "    <tr>\n",
       "      <th>7</th>\n",
       "      <td>Clinton's lead over Trump narrows to nine poin...</td>\n",
       "      <td>1</td>\n",
       "    </tr>\n",
       "    <tr>\n",
       "      <th>8</th>\n",
       "      <td>Hungary not planning to move Israeli embassy t...</td>\n",
       "      <td>1</td>\n",
       "    </tr>\n",
       "    <tr>\n",
       "      <th>9</th>\n",
       "      <td>Egypt attack victims pray, mourn in Sinai mosq...</td>\n",
       "      <td>1</td>\n",
       "    </tr>\n",
       "  </tbody>\n",
       "</table>\n",
       "</div>"
      ],
      "text/plain": [
       "                                               title  TorF\n",
       "0  More than 60 killed in air strike on Syrian ma...     1\n",
       "1  Brazil's Meirelles jokes about a vice presiden...     1\n",
       "2  Trump reassures farmers immigration crackdown ...     1\n",
       "3  At least 29 dead after Islamist attack on Soma...     1\n",
       "4  Oil mogul Hamm tops Trump list for U.S. energy...     1\n",
       "5  Australia to move 200 asylum seekers to new PN...     1\n",
       "6  Lights back on in Venezuela after five-hour bl...     1\n",
       "7  Clinton's lead over Trump narrows to nine poin...     1\n",
       "8  Hungary not planning to move Israeli embassy t...     1\n",
       "9  Egypt attack victims pray, mourn in Sinai mosq...     1"
      ]
     },
     "execution_count": 93,
     "metadata": {},
     "output_type": "execute_result"
    }
   ],
   "source": [
    "df_t.head(10)"
   ]
  },
  {
   "cell_type": "markdown",
   "id": "68bb379f",
   "metadata": {},
   "source": [
    "### Combining the two dataframe into one dataframe "
   ]
  },
  {
   "cell_type": "code",
   "execution_count": 94,
   "id": "9dada55b",
   "metadata": {},
   "outputs": [],
   "source": [
    "df_combined = pd.concat([df_f,df_t])"
   ]
  },
  {
   "cell_type": "code",
   "execution_count": 95,
   "id": "7f45dbf9",
   "metadata": {},
   "outputs": [
    {
     "data": {
      "text/html": [
       "<div>\n",
       "<style scoped>\n",
       "    .dataframe tbody tr th:only-of-type {\n",
       "        vertical-align: middle;\n",
       "    }\n",
       "\n",
       "    .dataframe tbody tr th {\n",
       "        vertical-align: top;\n",
       "    }\n",
       "\n",
       "    .dataframe thead th {\n",
       "        text-align: right;\n",
       "    }\n",
       "</style>\n",
       "<table border=\"1\" class=\"dataframe\">\n",
       "  <thead>\n",
       "    <tr style=\"text-align: right;\">\n",
       "      <th></th>\n",
       "      <th>title</th>\n",
       "      <th>TorF</th>\n",
       "    </tr>\n",
       "  </thead>\n",
       "  <tbody>\n",
       "    <tr>\n",
       "      <th>0</th>\n",
       "      <td>SAY WHAT?! Muslim Women Can Now Cover Their Fa...</td>\n",
       "      <td>0</td>\n",
       "    </tr>\n",
       "    <tr>\n",
       "      <th>1</th>\n",
       "      <td>Republicans Had Total Control Of This State A...</td>\n",
       "      <td>0</td>\n",
       "    </tr>\n",
       "    <tr>\n",
       "      <th>2</th>\n",
       "      <td>KARMA: GAY PASTOR SUES WHOLE FOODS For “Anti-G...</td>\n",
       "      <td>0</td>\n",
       "    </tr>\n",
       "    <tr>\n",
       "      <th>3</th>\n",
       "      <td>“ENTITLED” DEM REP. SHEILA JACKSON LEE Has Bee...</td>\n",
       "      <td>0</td>\n",
       "    </tr>\n",
       "    <tr>\n",
       "      <th>4</th>\n",
       "      <td>WOW! Why George W. Bush Never Left DC Until Af...</td>\n",
       "      <td>0</td>\n",
       "    </tr>\n",
       "    <tr>\n",
       "      <th>...</th>\n",
       "      <td>...</td>\n",
       "      <td>...</td>\n",
       "    </tr>\n",
       "    <tr>\n",
       "      <th>20821</th>\n",
       "      <td>Tens of thousands march to defend Hong Kong's ...</td>\n",
       "      <td>1</td>\n",
       "    </tr>\n",
       "    <tr>\n",
       "      <th>20822</th>\n",
       "      <td>French conservatives' leader-in-waiting out to...</td>\n",
       "      <td>1</td>\n",
       "    </tr>\n",
       "    <tr>\n",
       "      <th>20823</th>\n",
       "      <td>Troops and strays, the only signs of life in r...</td>\n",
       "      <td>1</td>\n",
       "    </tr>\n",
       "    <tr>\n",
       "      <th>20824</th>\n",
       "      <td>EU gives formal green light to new Brexit phase</td>\n",
       "      <td>1</td>\n",
       "    </tr>\n",
       "    <tr>\n",
       "      <th>20825</th>\n",
       "      <td>Russian and French foreign ministers discussed...</td>\n",
       "      <td>1</td>\n",
       "    </tr>\n",
       "  </tbody>\n",
       "</table>\n",
       "<p>38729 rows × 2 columns</p>\n",
       "</div>"
      ],
      "text/plain": [
       "                                                   title  TorF\n",
       "0      SAY WHAT?! Muslim Women Can Now Cover Their Fa...     0\n",
       "1       Republicans Had Total Control Of This State A...     0\n",
       "2      KARMA: GAY PASTOR SUES WHOLE FOODS For “Anti-G...     0\n",
       "3      “ENTITLED” DEM REP. SHEILA JACKSON LEE Has Bee...     0\n",
       "4      WOW! Why George W. Bush Never Left DC Until Af...     0\n",
       "...                                                  ...   ...\n",
       "20821  Tens of thousands march to defend Hong Kong's ...     1\n",
       "20822  French conservatives' leader-in-waiting out to...     1\n",
       "20823  Troops and strays, the only signs of life in r...     1\n",
       "20824    EU gives formal green light to new Brexit phase     1\n",
       "20825  Russian and French foreign ministers discussed...     1\n",
       "\n",
       "[38729 rows x 2 columns]"
      ]
     },
     "execution_count": 95,
     "metadata": {},
     "output_type": "execute_result"
    }
   ],
   "source": [
    "df_combined"
   ]
  },
  {
   "cell_type": "code",
   "execution_count": 96,
   "id": "4f822e1b",
   "metadata": {},
   "outputs": [
    {
     "name": "stdout",
     "output_type": "stream",
     "text": [
      "<class 'pandas.core.frame.DataFrame'>\n",
      "Int64Index: 38729 entries, 0 to 20825\n",
      "Data columns (total 2 columns):\n",
      " #   Column  Non-Null Count  Dtype \n",
      "---  ------  --------------  ----- \n",
      " 0   title   38729 non-null  object\n",
      " 1   TorF    38729 non-null  int64 \n",
      "dtypes: int64(1), object(1)\n",
      "memory usage: 907.7+ KB\n"
     ]
    }
   ],
   "source": [
    "df_combined.info()"
   ]
  },
  {
   "cell_type": "code",
   "execution_count": 97,
   "id": "ba6a0069",
   "metadata": {},
   "outputs": [],
   "source": [
    "df_combined = df_combined.sample(frac=1).reset_index(drop=True)"
   ]
  },
  {
   "cell_type": "code",
   "execution_count": 98,
   "id": "de2a64e3",
   "metadata": {},
   "outputs": [
    {
     "data": {
      "text/html": [
       "<div>\n",
       "<style scoped>\n",
       "    .dataframe tbody tr th:only-of-type {\n",
       "        vertical-align: middle;\n",
       "    }\n",
       "\n",
       "    .dataframe tbody tr th {\n",
       "        vertical-align: top;\n",
       "    }\n",
       "\n",
       "    .dataframe thead th {\n",
       "        text-align: right;\n",
       "    }\n",
       "</style>\n",
       "<table border=\"1\" class=\"dataframe\">\n",
       "  <thead>\n",
       "    <tr style=\"text-align: right;\">\n",
       "      <th></th>\n",
       "      <th>title</th>\n",
       "      <th>TorF</th>\n",
       "    </tr>\n",
       "  </thead>\n",
       "  <tbody>\n",
       "    <tr>\n",
       "      <th>0</th>\n",
       "      <td>Spain's King Felipe says committed to Spanish ...</td>\n",
       "      <td>1</td>\n",
       "    </tr>\n",
       "    <tr>\n",
       "      <th>1</th>\n",
       "      <td>Thirty-two years after quake, angry Mexicans s...</td>\n",
       "      <td>1</td>\n",
       "    </tr>\n",
       "    <tr>\n",
       "      <th>2</th>\n",
       "      <td>Kremlin says Putin and Trump to discuss North ...</td>\n",
       "      <td>1</td>\n",
       "    </tr>\n",
       "    <tr>\n",
       "      <th>3</th>\n",
       "      <td>Trump lawyer: Deutsche Bank has not received s...</td>\n",
       "      <td>1</td>\n",
       "    </tr>\n",
       "    <tr>\n",
       "      <th>4</th>\n",
       "      <td>WHY IS LORETTA LYNCH OPENING For One Of The Bi...</td>\n",
       "      <td>0</td>\n",
       "    </tr>\n",
       "    <tr>\n",
       "      <th>5</th>\n",
       "      <td>Elijah Cummings Just Asked 5 Questions The Wh...</td>\n",
       "      <td>0</td>\n",
       "    </tr>\n",
       "    <tr>\n",
       "      <th>6</th>\n",
       "      <td>Iraq oil ministry warns oil companies against ...</td>\n",
       "      <td>1</td>\n",
       "    </tr>\n",
       "    <tr>\n",
       "      <th>7</th>\n",
       "      <td>The Absolutely Cringeworthy Moment Trump Trie...</td>\n",
       "      <td>0</td>\n",
       "    </tr>\n",
       "    <tr>\n",
       "      <th>8</th>\n",
       "      <td>No Vacancies: Airbnb shutters Beijing rentals ...</td>\n",
       "      <td>1</td>\n",
       "    </tr>\n",
       "    <tr>\n",
       "      <th>9</th>\n",
       "      <td>MILITARY K-9 HANDLER’S Post About Vulgar Encou...</td>\n",
       "      <td>0</td>\n",
       "    </tr>\n",
       "  </tbody>\n",
       "</table>\n",
       "</div>"
      ],
      "text/plain": [
       "                                               title  TorF\n",
       "0  Spain's King Felipe says committed to Spanish ...     1\n",
       "1  Thirty-two years after quake, angry Mexicans s...     1\n",
       "2  Kremlin says Putin and Trump to discuss North ...     1\n",
       "3  Trump lawyer: Deutsche Bank has not received s...     1\n",
       "4  WHY IS LORETTA LYNCH OPENING For One Of The Bi...     0\n",
       "5   Elijah Cummings Just Asked 5 Questions The Wh...     0\n",
       "6  Iraq oil ministry warns oil companies against ...     1\n",
       "7   The Absolutely Cringeworthy Moment Trump Trie...     0\n",
       "8  No Vacancies: Airbnb shutters Beijing rentals ...     1\n",
       "9  MILITARY K-9 HANDLER’S Post About Vulgar Encou...     0"
      ]
     },
     "execution_count": 98,
     "metadata": {},
     "output_type": "execute_result"
    }
   ],
   "source": [
    "df_combined.head(10)"
   ]
  },
  {
   "cell_type": "markdown",
   "id": "480fb165",
   "metadata": {},
   "source": [
    "# Data pre-processing"
   ]
  },
  {
   "cell_type": "markdown",
   "id": "b4239e2e",
   "metadata": {},
   "source": [
    "The NLP methods using in this Project:\n",
    "1. Using regular expression, Removing punctuations,special characters and replacing them with spaces abd converting the whole dataframe into lowercase words.\n",
    "2. Applying Stemming on the whole Dataframe\n",
    "3. Removing the English Stopwords"
   ]
  },
  {
   "cell_type": "markdown",
   "id": "90dc767d",
   "metadata": {},
   "source": [
    "The **NLTK** library consists of many useful NLP methods , which we use in this project."
   ]
  },
  {
   "cell_type": "markdown",
   "id": "fbdee407",
   "metadata": {},
   "source": [
    "Installing the necessary libraries"
   ]
  },
  {
   "cell_type": "code",
   "execution_count": 99,
   "id": "5f0d2e5c",
   "metadata": {},
   "outputs": [],
   "source": [
    "import nltk\n",
    "import re\n",
    "from nltk.corpus import stopwords\n",
    "from nltk.stem.porter import PorterStemmer"
   ]
  },
  {
   "cell_type": "markdown",
   "id": "1f46a4b7",
   "metadata": {},
   "source": [
    "Creating the Object of PorterStemmer() for Stemming."
   ]
  },
  {
   "cell_type": "code",
   "execution_count": 100,
   "id": "f1a7d1dd",
   "metadata": {},
   "outputs": [],
   "source": [
    "ps = PorterStemmer()\n",
    "corpus = []"
   ]
  },
  {
   "cell_type": "markdown",
   "id": "cb3532de",
   "metadata": {},
   "source": [
    "Iterating each row and applying the regular expressions,removing stopwords and stemming and combining to make a list of sentences."
   ]
  },
  {
   "cell_type": "code",
   "execution_count": 101,
   "id": "e6d922d0",
   "metadata": {},
   "outputs": [
    {
     "name": "stderr",
     "output_type": "stream",
     "text": [
      "C:\\Users\\rohan\\AppData\\Local\\Temp/ipykernel_14360/1279632879.py:2: TqdmDeprecationWarning: This function will be removed in tqdm==5.0.0\n",
      "Please use `tqdm.notebook.tqdm` instead of `tqdm.tqdm_notebook`\n",
      "  for i in tqdm(range(0, len(df_combined))):\n"
     ]
    },
    {
     "data": {
      "application/vnd.jupyter.widget-view+json": {
       "model_id": "8a87d8f0a99c4ce2bb716a12af9bc5ba",
       "version_major": 2,
       "version_minor": 0
      },
      "text/plain": [
       "  0%|          | 0/38729 [00:00<?, ?it/s]"
      ]
     },
     "metadata": {},
     "output_type": "display_data"
    }
   ],
   "source": [
    "from  tqdm import tqdm_notebook as tqdm\n",
    "for i in tqdm(range(0, len(df_combined))):\n",
    "    review = re.sub('[^a-zA-Z]' , ' ',df_combined['title'][i])\n",
    "    review = review.lower()\n",
    "    review = review.split()\n",
    "    \n",
    "    review = [ps.stem(word) for word in review if not word in stopwords.words('english')]\n",
    "    review = ' '.join(review)\n",
    "    corpus.append(review)"
   ]
  },
  {
   "cell_type": "markdown",
   "id": "fbad0798",
   "metadata": {},
   "source": [
    "Corpus returns a list of all the sentences that are ready to be trained."
   ]
  },
  {
   "cell_type": "code",
   "execution_count": 102,
   "id": "7f5c39fa",
   "metadata": {},
   "outputs": [
    {
     "data": {
      "text/plain": [
       "['spain king felip say commit spanish uniti amid catalan crisi',\n",
       " 'thirti two year quak angri mexican still wait home',\n",
       " 'kremlin say putin trump discuss north korea vietnam',\n",
       " 'trump lawyer deutsch bank receiv subpoena trump record',\n",
       " 'loretta lynch open one biggest black live matter leader endors',\n",
       " 'elijah cum ask question white hous scare death answer',\n",
       " 'iraq oil ministri warn oil compani kurdistan contract',\n",
       " 'absolut cringeworthi moment trump tri flirt irish report video',\n",
       " 'vacanc airbnb shutter beij rental ahead parti congress',\n",
       " 'militari k handler post vulgar encount hillari goe viral vote clinton',\n",
       " 'outspoken lieuten gener name trump top secur advis',\n",
       " 'trump call mexico pena nieto earthquak wake white hous',\n",
       " 'unhing dem hijack tucker refus leav show heat argument video',\n",
       " 'obama put american grave danger new plan close gitmo move prison u',\n",
       " 'indian court acquit accus g telecom case',\n",
       " 'caitlyn jenner join celeb mull run u polit offic',\n",
       " 'easili offend watch american pastor rant america gone stupid',\n",
       " 'trump administr evalu self drive car guidanc',\n",
       " 'harri harri crowd yell militari hero name presid trump incred speech veteran video',\n",
       " 'turkish minist say work improv tie germani',\n",
       " 'video congression budget offic debt head gdp last seen end wwii',\n",
       " 'watch jake tapper humili trump sad truth pathet first day',\n",
       " 'ceo target adm offer differ view u border tax hear',\n",
       " 'epipen price goug ceo tri explain away price increas fast inconveni headlin video',\n",
       " 'student major univers black student includ inmat get free tuition room board check includ',\n",
       " 'treason accus rain trump cheer russia american media',\n",
       " 'republican ask trump roll back protect rape colleg campus',\n",
       " 'trey gowdi look fact ambassador steven e mail give chill video',\n",
       " 'numbskul ben carson manag p ss everi decent parent america',\n",
       " 'top u marin wish list trump goe well beyond troop hike',\n",
       " 'epa inspector gener investig agenc chief travel oklahoma',\n",
       " 'vicent fox brilliantli troll trump disastr week gloriou',\n",
       " 'migrant serbia north brave winter cross eu',\n",
       " 'chines state media call trump give one china polici middl finger',\n",
       " 'one trump transit aid u spi agenc offici',\n",
       " 'lol conserv comedian steven crowder make video want miss paint muhammad bob ross',\n",
       " 'jane goodal say donald trump remind chimpanze act get attent',\n",
       " 'fema deni aid baltimor riot damag mayor plan appeal',\n",
       " 'right group call japan take stronger stanc arrest journalist myanmar',\n",
       " 'watch fox host crude brag hurrican matthew hurt democrat florida',\n",
       " 'kremlin say hope putin trump get along disagre tillerson',\n",
       " 'maxin water make teen chant impeach teen vogu summit let talk church video',\n",
       " 'call judg derid trump known fair work youth',\n",
       " 'princ charl use christma radio broadcast ask british rememb moham',\n",
       " 'justic depart name new act head drug enforc agenc',\n",
       " 'trump tweet rais million hour onlin donat',\n",
       " 'break next line speaker hous rino kevin mccarthi make shock announc',\n",
       " 'senat republican leader want health bill revis friday cornyn',\n",
       " 'end crook hillari polit career hello dark old friend video',\n",
       " 'polic offic ask daughter school remov hate draw display school shock respons',\n",
       " 'evacu islam state fighter reach syria deir al zor pro damascu command say',\n",
       " 'break disgust audio releas harvey weinstein beg model watch take shower embarrass hotel come time',\n",
       " 'trump labor secretari pick want elimin break time overtim pay protect',\n",
       " 'presid obama give power speech hillari clinton ralli eve elect video',\n",
       " 'bill clinton rapist movement explod watch awesom truth teller hijack mainstream media leftist cabl audienc brutal messag video',\n",
       " 'mike penc break silenc respond misl trump team flynn video',\n",
       " 'palestinian may seek u n assembl support u veto jerusalem resolut envoy',\n",
       " 'funni sean spicer whine snl baldwin return trump video',\n",
       " 'civil right group sue u court immigr detent',\n",
       " 'mccain say inform russia sought influenc elect probe need',\n",
       " 'israel interpret u settlement statement green light',\n",
       " 'meet respons gun owner shot back year old drive video screenshot',\n",
       " 'sander clinton battl youth vote colleg plan',\n",
       " 'one spot democrat parti nutshel',\n",
       " 'factbox obama final budget propos',\n",
       " 'watch msnbc object host loud outburst latina guest say feel home gop',\n",
       " 'stun disregard law ca counti regist voter vote age citizen look vote last elect',\n",
       " 'die paycheck russian civilian fight syria',\n",
       " 'poll clinton ahead trump stagger point',\n",
       " 'britain johnson seek clarifi remark jail aid worker iran',\n",
       " 'debat fire u consum watchdog director intensifi',\n",
       " 'rocki start u china talk push steel share higher',\n",
       " 'break mayday journalist attack ask may day protest carri north korean flag video',\n",
       " 'obama radic agenda respons state depart mislead report forc labor prostitut human slaveri',\n",
       " 'beauti girl world ten alreadi deal sexist attack imag',\n",
       " 'shock comment trump expos intellig committe schiff put countri first video',\n",
       " 'break schizophren command chief send warshipsto defend nuclear iran work cut lopsid deal',\n",
       " 'trump say believ pakistan start respect u',\n",
       " 'thick thiev trump univers lawsuit brought firm paid big buck clinton',\n",
       " 'democrat disarray eve convent nomin clinton',\n",
       " 'video show obama state depart tell report problem gener flynn contact foreign offici',\n",
       " 'watch judg tell disrespect gangbang taxpay fund hous project live hood',\n",
       " 'go strong year uk queen elizabeth princ philip celebr platinum anniversari',\n",
       " 'iowa move cut medicaid fund plan parenthood',\n",
       " 'kerri tell state depart cooper u presid elect trump',\n",
       " 'costa mesa offici make enough live get',\n",
       " 'fanni freddi revamp plan unlik year dividend focu',\n",
       " 'factbox trump twitter jan abc interview voter fraud suprem court pick',\n",
       " 'watch republican senat admit trumpcar bill lower health insur premium',\n",
       " 'women accus trump sexual misconduct seek congression probe',\n",
       " 'hp ceo whitman compar trump hitler mussolini',\n",
       " 'u depart educ teacher incorpor islam subject',\n",
       " 'american airlin throw ivi leagu economist plane math',\n",
       " 'trump stop tweet even though fake msm tri stop',\n",
       " 'u capitol replac flag display confeder imageri',\n",
       " 'sunday screen cia secret experi',\n",
       " 'surpris fact white hous easter egg roll',\n",
       " 'break report antifa thug place bounti head black patriot defend confeder monument video',\n",
       " 'elect campaign underway japan abe take hope',\n",
       " 'move video iranian russian syrian set coordin cell iraq',\n",
       " 'jill stein hillari recount collaps miss deadlin pennsylvania sue wi refus hand recount video',\n",
       " 'franc macron tread fine line iran saudi minefield',\n",
       " 'watch black vanderbilt professor expos real racist inconveni truth democrat parti',\n",
       " 'zimbabwean take johannesburg street celebr mugab resign',\n",
       " 'african american rep play racist call receiv call trump impeach audio',\n",
       " 'adel break best album grammi award half stage give embarrass white guilt apolog speech deserv beyonc way make black friend feel video',\n",
       " 'green group critic trump pick white hous environment polici post',\n",
       " 'obama statement death suprem court justic scalia',\n",
       " 'teacher resign caught knock special need student floor video',\n",
       " 'truth man reform welfar balanc straight budget',\n",
       " 'support independ catalonia rise three year high poll',\n",
       " 'factbox trump twitter septemb daca florida mexico earthquak healthcar',\n",
       " 'exclus trump drop plan order tighten food aid ship rule sourc',\n",
       " 'multipl fbi offic investig clinton foundat briberi charg financi crime influenc peddl doj appear want slow stop investig',\n",
       " 'rudi giuliani blew hillari phoni khantroversi wide open rant clinton camp want american see video',\n",
       " 'clinton far ahead elector colleg race reuter ipso poll',\n",
       " 'liber lunat chri matthew scold pier morgan trash trump famili video',\n",
       " 'trump lost damn mind twitter berni endors hillari tweet',\n",
       " 'join nato would help finland secur unlik financ minist',\n",
       " 'ny nj senat invit transport secretari view decay train tunnel',\n",
       " 'european african agre renew push tackl migrant crisi',\n",
       " 'kenya presid lift travel restrict say african get visa arriv',\n",
       " 'tillerson email alia prompt busi need exxon say',\n",
       " 'trump foundat openli admit corrupt break ir rule',\n",
       " 'trump say pick mulvaney white hous budget director',\n",
       " 'ted cruz religi liberti exactli wrong respons georgia veto cringeworthi',\n",
       " 'wikileak admit screw immens twitter poll hillari health',\n",
       " 'white hous congress work spend bill',\n",
       " 'mom hear yr old daugher scream girl bathroom find man strangl drag stall video',\n",
       " 'polish presid sign judici overhaul bill law',\n",
       " 'tension escal cruz call trump snivel coward',\n",
       " 'tillerson precondit north korea talk',\n",
       " 'trump campaign critic iran nuclear deal anew reuter report',\n",
       " 'madrid repres catalonia apolog polic violenc independ vote',\n",
       " 'anti american dem rep declar independ racist lie video',\n",
       " 'traitor gop senat lindsey graham trash threaten presid trump tell voter back amnesti push',\n",
       " 'nra respons florida shoot spree left dead speak volum',\n",
       " 'highlight trump presid march p est',\n",
       " 'last republican reagan trash gop say nanci would vote hillari clinton',\n",
       " 'nune admit secretli wh right magic found sourc vindic trump',\n",
       " 'watch hypocrit trump support get buri whine racist call racist',\n",
       " 'watch newt gingrich skewer msnbc anchor obama race war pathet video',\n",
       " 'democrat phil murphi win new jersey governor elect media',\n",
       " 'rememb left thought funni say mccain buy war hero thing',\n",
       " 'watch report call kellyann conway lie dark repli insan iron',\n",
       " 'caus fire special counsel mueller deputi attorney gener',\n",
       " 'feel bern watch berni sander support embarrass hypocrisi hyster gotcha video',\n",
       " 'trump twitter may nation peac offic memori servic',\n",
       " 'tension talk court three scenario spain catalonia stand',\n",
       " 'u partnership turkey islam state fight strong',\n",
       " 'nine kill nusra front car bomb southwest syria state media',\n",
       " 'catalonia puigdemont see lawyer brussel vrt media',\n",
       " 'bill clinton call break northern ireland polit impass sourc',\n",
       " 'year old virgin bionic peni set sex first time video',\n",
       " 'slap romney trump say want hatch run elect',\n",
       " 'trump visit slovenia countri wife melania birth',\n",
       " 'watch morn joe tell trump stop appoint crazi peopl want nation meltdown',\n",
       " 'trump name exxon mobil ceo tillerson u secretari state fox news',\n",
       " 'trump speak phone israel netanyahu jordan king abba white hous',\n",
       " 'china rule parti expel anti graft ex insur offici cite graft',\n",
       " 'michel obama slam america iranian parti hear much disturb hate rhetor',\n",
       " 'break us suprem court rule king obama overstep author execut amnesti million illeg alien democrat voter go happen',\n",
       " 'dingbat democrat maxin water hope trump serv year think putin invad korea video',\n",
       " 'clinton rais million june campaign',\n",
       " 'seinfeld elain want berni sander clarifi thing snl cold open video',\n",
       " 'puerto rico could face financi chao without congress plan lew',\n",
       " 'aspir young chines seiz day seiz hour',\n",
       " 'congo elect mid vote commiss say anger opposit',\n",
       " 'trump without evid say illeg vote cost u popular vote',\n",
       " 'timelin fbi director comey year controversi end fire',\n",
       " 'new york time advoc internet censorship control approv agent',\n",
       " 'trump say open temporari healthcar reform deal democrat',\n",
       " 'cnn host destroy moder republican fail condemn extrem led trump video',\n",
       " 'u state depart nomine tillerson fight climat deposit',\n",
       " 'oust pakistani prime minist nawaz sharif return face trial',\n",
       " 'onlin ad offer legal option u elect meddl',\n",
       " 'video trump reilli discuss debat admit apprehens first nation gop debat',\n",
       " 'nz kingmak call inquiri china spi report',\n",
       " 'lebanon pm hariri resign assail iran hezbollah',\n",
       " 'watch hillari unnecessari respons trump ad compar bill clinton bill cosbi video',\n",
       " 'republican senat propos elimin mandat obamacar bill',\n",
       " 'corruptocrat maxin water impeach whatev congress say video',\n",
       " 'john boehner tri post facebook like regular guy fail miser pay dearli imag',\n",
       " 'australian pm put foreign minist charg amid govern crisi',\n",
       " 'hidden root white rage',\n",
       " 'bcb cigna among insur group meet trump monday',\n",
       " 'fail trump organ credit score make laugh',\n",
       " 'malian soldier kill french strike join islamist sourc',\n",
       " 'increasingli unhing bundi famili begin prepar third standoff',\n",
       " 'egypt sisi say seek third term cnbc',\n",
       " 'u n welcom obama guantanamo plan call due process',\n",
       " 'trump grow frustrat china weigh trade step offici',\n",
       " 'watch georg w bush prove better presid trump ever',\n",
       " 'hillari panic total freez protest shout secret servic jump onstag video',\n",
       " 'presid obama warn putin hack elect',\n",
       " 'japan aso say seek u understand tpp benefit',\n",
       " 'mike penc drop terrifi bombshel north korea threaten war video',\n",
       " 'saudi arabia host expand syrian opposit confer',\n",
       " 'connecticut attorney gener other ask equifax stop collect fee',\n",
       " 'fbi investig twitter account goe trump tweet',\n",
       " 'lawmak see strong board part puerto rico debt fix',\n",
       " 'former alli nigeria buhari prepar contest presid',\n",
       " 'top senat democrat warn trump replac session derail russia probe',\n",
       " 'leak manchest bomb probe reprehens stop u envoy',\n",
       " 'illinoi senat democrat pass budget plan hurdl seen hous',\n",
       " 'foreign minist warn uk cannot becom vassal state eu',\n",
       " 'obama grow friendship trudeau like',\n",
       " 'key south carolina democrat clyburn endors clinton presid',\n",
       " 'turkey iran iraq may meet discuss kurdish iraqi referendum turkey pm',\n",
       " 'watch pre jimmi carter go beast mode republican candid video',\n",
       " 'cash flush california gop allow chairman seek third term',\n",
       " 'four democrat seek probe review order act sec chair',\n",
       " 'snowflak trump actual scream white hous televis prove mental unfit presid',\n",
       " 'trump signal may done kushner trump reason ever',\n",
       " 'unitedhealth obamacar exit add price pressur rival',\n",
       " 'cnn host suggest women wear muslim headscarf show solidar muslim video',\n",
       " 'senat debat puerto rico debt bill mcconnel',\n",
       " 'death toll vietnam storm top dam near burst',\n",
       " 'liz cheney wyom campaign back big name bigger money',\n",
       " 'white hous assail trump secreci financi deal russia',\n",
       " 'china say foreign press welcom media outlet exclud key event',\n",
       " 'short boot back west africa forc face uphil battl',\n",
       " 'ouch minimum wage activist interview cavuto get truth video',\n",
       " 'tone trump mean retreat polici aid',\n",
       " 'ted cruz daughter reveal shock famili secret live cnn town hall video',\n",
       " 'iran behind cyber attack british lawmak june time',\n",
       " 'trump liber hypocrisi human futur',\n",
       " 'exclus expect trump action u suspend refuge resettl interview',\n",
       " 'millionair sean hanniti tri fake middl class get destroy twitter tweet',\n",
       " 'maddow destroy trump danger move hate campaign stop yet video',\n",
       " 'yike claw come view host attack jill stein video',\n",
       " 'live stream presid trump histor speech muslim world honestli confront islamist extrem video',\n",
       " 'washington threaten fund cut california sanctuari area',\n",
       " 'modest bump clinton onlin wager hour debat',\n",
       " 'rubio pick outgo devon execut overse energi polici issu',\n",
       " 'forb peg trump wealth billion million less last year',\n",
       " 'tear song china welcom xi great wise leader',\n",
       " 'whoa new shock poll show iowa voter shift new gop candid wide margin',\n",
       " 'watch obama shoot trump rig elect conspiraci video',\n",
       " 'vietnam prosecut anoth former oil execut mismanag',\n",
       " 'obama eu envoy say brexit farag mislead trump',\n",
       " 'turkey atlasglob say flight copenhagen back normal statement',\n",
       " 'follow advic potenti fbi chief steer clear job trump',\n",
       " 'tillerson warn region use lebanon proxi conflict',\n",
       " 'top ten reason need liber suprem court',\n",
       " 'unhcr alarm violenc rohingya sri lanka',\n",
       " 'poland new prime minist gambl could backfir',\n",
       " 'nail mike row trump hillari support like video',\n",
       " 'fbi tell congress chang conclus clinton email',\n",
       " 'wake georg soro drastic ramp effort destroy america',\n",
       " 'break dem tri scapegoat releas colin powel e mail hillari prove corruptocrat',\n",
       " 'trump econom advis powel name deputi nation secur advis',\n",
       " 'u n envoy say told expect syrian govern deleg wednesday',\n",
       " 'fighter raqqa front line brace final showdown islam state',\n",
       " 'watch morn joe host urg republican abandon trump fbi director comey testimoni',\n",
       " 'dead teenag two week illeg immigr gang violenc hit long island town hard',\n",
       " 'cop drag half nake woman courtroom judg awesom video',\n",
       " 'cnn hold back complet make fun paul ryan rest america imag',\n",
       " 'fake news collaps msm facebook russian bot stori',\n",
       " 'tillerson say u will talk north korea without pre condit',\n",
       " 'mexico slim trump succe mexico',\n",
       " 'philippin vow fair probe vietnames fishermen kill',\n",
       " 'trump would favor senat rule chang suprem court choic block',\n",
       " 'nsa director roger top candid dni trump wsj',\n",
       " 'kremlin say alleg hack u democrat parti made horror stori',\n",
       " 'venezuela may ban main opposit parti presidenti vote',\n",
       " 'enabl hillari creat insan reason prais serial groper al franken bash trump moor',\n",
       " 'see one viabl leader nonpartisan gener break tradit endors hillari video',\n",
       " 'sext addict anthoni weiner final get help control behavior',\n",
       " 'video rememb death panel obamacar baaaaack',\n",
       " 'obama flashback hear obama said take vacat elect video',\n",
       " 'north korea hacker stole south korea u militari plan wipe north korea leadership lawmak',\n",
       " 'u tax cut make hous afford analyst',\n",
       " 'video proud one veteran remain flag burn event nyc take care busi',\n",
       " 'trump unveil compani million u drug packag project',\n",
       " 'uk princ harri fiance markl delight crowd first offici walkabout',\n",
       " 'famili threaten gunpoint display confeder flag privat properti polic let suspect go video',\n",
       " 'u vice presidenti debat watch million tv',\n",
       " 'factbox highlight trump call leader mexico australia',\n",
       " 'lebanon presid seek diplomat help pm resign al manar tv',\n",
       " 'senat dem introduc constitut amend overturn citizen unit',\n",
       " 'baghdad pile pressur iraqi kurd revers overwhelm independ vote',\n",
       " 'post elect scene school cafeteria need know trump america video',\n",
       " 'elect warn everi american read think last eight year wrought pitch america forward',\n",
       " 'donald trump clearli panick avoid peopl vote',\n",
       " 'republican want tech input u net neutral legisl',\n",
       " 'ted cruz win wyom republican presidenti nomin contest',\n",
       " 'tillerson say trump disagre iran nuclear deal',\n",
       " 'shock migrant class war n african migrant attack chines refuge knive rich somali mob rage upscal minnesota neighborhood threaten rape kidnap video',\n",
       " 'cnn host utterli embarrass trump lackey refus believ trump lose video',\n",
       " 'kill gang battl two mexican state',\n",
       " 'wow sarcast mike barnicl get ear kellyann conway say republican fair obama video',\n",
       " 'one hillari oppon could drop endors video',\n",
       " 'china state media warn trump renounc free trade deal',\n",
       " 'democrat chant warn gop trumpcar pass na na na na hey hey hey goodby video',\n",
       " 'top obama administr offici brief senat',\n",
       " 'gop congressman demand feder govern purg anybodi disagre trump',\n",
       " 'one woman tri fail combin femin anti abort activ',\n",
       " 'cruz liter steal line legendari movi defend wife donald trump video',\n",
       " 'young danish coupl beaten woman punch head ethnic gang attack eat pork pizza',\n",
       " 'watch one woman report weather sweden iraq wrong pictur',\n",
       " 'whoopi shred betsi devo ignor public school gloriou video',\n",
       " 'moscow may demand u cut diplomat staff russia ria',\n",
       " 'break bad news hillari fbi expand investig e mail video',\n",
       " 'hey trump fan trump improv economi one singl bit proof',\n",
       " 'collect money wall mexico start charg american fee enter',\n",
       " 'north carolina poll worker forc asian coupl take spell test order vote',\n",
       " 'bali airport may stay close longer hour amid agung erupt governor',\n",
       " 'amount peopl shot year far toddler make stomach turn',\n",
       " 'uk parliament speaker must zero toler sexual harass',\n",
       " 'least dead injur quak iran western provinc state tv',\n",
       " 'former astronaut buzz aldrin stay new zealand lung clear',\n",
       " 'wow popular imam warn nyc mayor deblasio terror threat de blasio spent energi resourc tri bring presid trump islam extremist',\n",
       " 'liber billmah use n word live tv kathi griffin video',\n",
       " 'republican london celebr trump inaugur',\n",
       " 'german fdp leader press green compromis immigr',\n",
       " 'oregon prosecut babi abus young testifi',\n",
       " 'u waiv jone act secur fuel hurrican respond',\n",
       " 'alli press catalan leader declar full independ ignor madrid deadlin',\n",
       " 'somali refuge face terror charg canada stab car attack',\n",
       " 'kurdish leader reject baghdad demand cancel independ vote renew dialogu offer',\n",
       " 'saudi arabia say intercept missil close capit',\n",
       " 'shame desper rubio repeatedli tri pin blame clinton video',\n",
       " 'presenc russian aircraft fighter jet near u shore increas',\n",
       " 'china say support cambodia pursu develop path',\n",
       " 'bid mine coal u feder land test obama green agenda',\n",
       " 'mockingbird mirror declassifi doc depict deeper link cia american media',\n",
       " 'senat close propos zika fund republican committe chairman',\n",
       " 'turkey start trial newspap staff link coup attempt',\n",
       " 'treason white hous say entir like even expect iran use billion sanction relief terror video',\n",
       " 'bust trump lawyer nail comey big lie oath video',\n",
       " 'german legal expert say poland right ww repar report',\n",
       " 'respons gun owner tri nd amend child firework',\n",
       " 'plan republican convent suffer embarrass blow video',\n",
       " 'whiner chief fake media mean wonder michael flynn video',\n",
       " 'bradi offer substant u tax bill amend monday statement',\n",
       " 'ten incid ten day prove trump right sweden mass muslim migrat problem video',\n",
       " 'speaker ryan say republican healthcar plan pass hous',\n",
       " 'sixteen kill attack remot mozambiqu port media',\n",
       " 'barracuda former obama advisor rant trump keep campaign promis video',\n",
       " 'substant chang brexit border text say northern ireland dup leader',\n",
       " 'trump white hous screw easter littl children',\n",
       " 'cholera claim unborn children epidem spread yemen miseri',\n",
       " 'trump support attack liber protest take polit violenc new level',\n",
       " 'british pm hold trump hand like f cking child fear stair slope',\n",
       " 'u lawmak question mylan medicaid epipen rebat',\n",
       " 'thailand prime minist visit white hous octob',\n",
       " 'racist trump support rough black woman scum time come video',\n",
       " 'dup blame sinn fein northern ireland talk collaps',\n",
       " 'watch report face recount trump go full narcissist oval offic interview video',\n",
       " 'clinton suprem court plan could destroy senat republican',\n",
       " 'u judg order former trump aid stay home arrest',\n",
       " 'obama put terrorist boot ground',\n",
       " 'nasti liber lawyer got dose karma say ok femal trump offici sexual assault',\n",
       " 'gimmick dawn republican trump full sh wall',\n",
       " 'algeria say jerusalem announc blatant violat u n resolut',\n",
       " 'obama threw major shade trump last nation secur speech video',\n",
       " 'ninth australian lawmak quit citizenship crisi widen',\n",
       " 'turkish prosecutor investig claim erdogan famili money transfer',\n",
       " 'insan great way one idea obama made life amaz million american',\n",
       " 'cnn clown cri fake news use unverifi stori push islamaphobia lie viewer video',\n",
       " 'senat releas health bill edt thursday senat',\n",
       " 'u taxpay hook trump corrupt even inaugur',\n",
       " 'difficult cut u corpor tax rate percent studi',\n",
       " 'leftist resent peddler larri david net worth million claim k prize call trump racist',\n",
       " 'india appoint new defenc minist rejig cabinet refocu economi',\n",
       " 'kabul mosqu attack four year old call safeti',\n",
       " 'oop new evid show woman accus roy moor sexual misconduct work hillari campaign support democrat oppon facebook',\n",
       " 'mexico say upcom u execut nation illeg',\n",
       " 'watch republican call town hall crowd children boo lie afford care act',\n",
       " 'confus trump first talk foreign leader',\n",
       " 'demis progress democrat resist submit retreat surrend',\n",
       " 'whoa fox news went full racist chinatown appal segment trump asian video',\n",
       " 'egypt court sentenc mursi year qatar spi case',\n",
       " 'texa gun nut open fire democrat offic gun control support senat',\n",
       " 'clinton say case fbi email investig',\n",
       " 'son egyptian immigr hope becom first muslim governor u push sanctuari state',\n",
       " 'court gave cop permiss murder dog',\n",
       " 'isra siren app say rocket fire israel near gaza strip',\n",
       " 'greta van susteren slam fox news deal roger ail sooner',\n",
       " 'hyster whini lib claim assault instantli shot quick think congressman video',\n",
       " 'kurdish forc still control khurmala oil field northwest kirkuk tv',\n",
       " 'democrat expect senat oppos obama saudi bill',\n",
       " 'naacp chief ask blm rioter show en mass poll need ensur everi demonstr vote video',\n",
       " 'wast money trump border wall fall flat arizona reuter ipso poll',\n",
       " 'hillari clinton total rub indict rumor trump big orang face screenshot',\n",
       " 'former u envoy u n warn congress cut fund',\n",
       " 'sign time man stream polic chase facebook live video',\n",
       " 'trump presid feb p est',\n",
       " 'u hous bank chairman unveil dodd frank replac',\n",
       " 'cnn jim acosta goe bonker wave hand camera sean spicer useless video',\n",
       " 'harvey victim fund may delay without debt limit increas mnuchin',\n",
       " 'fire trump former attorney bharara launch podcast',\n",
       " 'republican money class fear stigma becom trump donor',\n",
       " 'iraqi pm press case baghdad receiv kurdistan oil revenu',\n",
       " 'russia china other boycott u meet u n venezuela',\n",
       " 'trump corpor target face tricki task fend attack',\n",
       " 'saudi women allow drive age men',\n",
       " 'watch desper rate megyn kelli goe ellen degener show blame trump exit fox news claim never polit person ellen buy',\n",
       " 'unreal liber protest scream yell prayer pledg allegi republican town hall video',\n",
       " 'indonesian forc prepar storm papua villag held rebel',\n",
       " 'tillerson urg new approach north korea give detail',\n",
       " 'report question russia p ssed trump much kick everyon offic',\n",
       " 'paul ryan get call town hall give dumbest reason support trump video',\n",
       " 'londonbridg muslim men caught laugh celebr yell allah akbar watch aftermath terror attack vehicl video',\n",
       " 'rand paul forgot delet tweet call peopl use nd amend shoot govern',\n",
       " 'stori sever disabl man mom show cruel gop healthcar bill realli',\n",
       " 'iraqi govern ask kurdistan region govern hand border post airport referendum disput',\n",
       " 'u must suffer pain respons iran trump speech guard chief',\n",
       " 'trump win decis south carolina clinton clinch nevada',\n",
       " 'hell break loos first charlottesvil citi council meet sinc nazi ralli',\n",
       " 'new email reveal huma abedin told show love clinton donor clinton brother act go',\n",
       " 'state depart miss deadlin manag email record electron',\n",
       " 'obama infuri gop prove cuban scari communist comedi skit video',\n",
       " 'unbeliev obama attorney gener say charlott rioter peac protest home state north carolina video',\n",
       " 'atlant citi mayor term n j takeov plan fascist dictatorship',\n",
       " 'caught camera trump support goe rabid hillari support flight video',\n",
       " 'berni sander style grassroot effort like model say trump donor',\n",
       " 'senat urg regul id vehicl possibl faulti takata air bag',\n",
       " 'u japan first ladi unconvent yet pole apart',\n",
       " 'trump ad white nationalist offici convent team',\n",
       " 'eu juncker say readi act new u sanction russia',\n",
       " 'bloomberg deliv u pledg continu pari climat goal u n',\n",
       " 'mooch say black kid welcom museum white kid',\n",
       " 'trump met fed yellen fed chair search white hous offici',\n",
       " 'creationist ken ham build noah ark kentucki want pay video tweet',\n",
       " 'islam terrorist organ join obama friend condemn trump new muslim immigr posit',\n",
       " 'senat mccaskil absent three week cancer treatment',\n",
       " 'boom donald trump jr destroy heckler ralli crowd erupt applaus video',\n",
       " 'target made major move go blow conserv mind video',\n",
       " 'watch msnbc anchor make outrag claim pre exist condit obamacar video',\n",
       " 'turkey arrest four peopl explos tupra refineri anadolu',\n",
       " 'china push greater cooper graft terror interpol meet',\n",
       " 'jimmi kimmel ask trump support say one nice thing hillari happen video',\n",
       " 'slightli modifi irish border text consider govern parti mep',\n",
       " 'media show video trump tell matt lauer david duke bigot racist ignor hillari tie former kkk leader democrat senat robert byrd',\n",
       " 'bangladesh detain leader islamist parti milit plot',\n",
       " 'trump tweet iran play fire say kind obama',\n",
       " 'obama dream team illeg alien drug dealer suspect kill innoc woman sleep apt illeg video',\n",
       " 'trump univers lawyer ask judg anoth shot end class action',\n",
       " 'new handgun design fold like smartphon realli good idea',\n",
       " 'second phase brexit talk harder first eu juncker',\n",
       " 'radic eric holder stir pot claim republican elect rig system video',\n",
       " 'jpmorgan dimon say trump like one term presid',\n",
       " 'nfl owner threaten put end anthem protest late',\n",
       " 'trump voter panick realiz border wall put hous mexico video',\n",
       " 'ireland set vote loosen abort law may june',\n",
       " 'trump doj said execut branch withhold info dem senat parti livid',\n",
       " 'watch georg w bush visit smu footbal team reassur player famili houston area day dark gonna get better',\n",
       " 'putin say stronger russia china tie major boon everyon',\n",
       " 'trump choic attorney gener come obama school chicago thug justic',\n",
       " 'russia spurn u alleg violat nuclear arm pact',\n",
       " 'hillari clinton overdr aim break women glass ceil',\n",
       " 'kerri urg congress rush renew iran sanction measur',\n",
       " 'oil industri bet big jeb bush presid reuter review show',\n",
       " 'polic examin three envelop scottish parliament one thought contain white powder sourc',\n",
       " 'trump come unglu continu miss univers feud insan earli morn twitter rant',\n",
       " 'speaker ethiopian parliament submit resign',\n",
       " 'conserv back latest u healthcar bill obstacl remain',\n",
       " 'trump john kelli got rip apart medal honor recipi video',\n",
       " 'ronald reagan rememb hero video',\n",
       " 'peopl came u ny terrorist schumer lotteri trump claim famili member certainli could repres threat video',\n",
       " 'wed crasher hillari tri explain bill attend trump wed prove first class grifter',\n",
       " 'ultim hypocrit russian ambassador visit obama white hous time hillari uranium deal bill clinton bag k speak fee moscow video',\n",
       " 'obama say must done address u polic shoot',\n",
       " 'clinton seek keep trump defens presidenti debat',\n",
       " 'colombia ex rebel begin build commun citi rural area',\n",
       " 'clinton mega chariti slush fund clinton took million gave pittanc direct aid',\n",
       " 'group terror tie encourag muslim swing u presidenti elect turn islam center mosqu registr center voter',\n",
       " 'woman cri see easili vote stolen electron vote machin video',\n",
       " 'mexico urg respect u presidenti elect',\n",
       " 'trump epa pick vote delay boycott senat democrat',\n",
       " 'soldier kill six cameroon amid secessionist protest mayor',\n",
       " 'debat protest build wall taco truck outsid trump hotel',\n",
       " 'hillari new page websit actual pretti damn hilari imag',\n",
       " 'alabama gay rep drop devast truth bomb bathroom bigot',\n",
       " 'u back militia say take major raqqa posit isi',\n",
       " 'text ex fbi director comey prepar testimoni senat panel',\n",
       " 'ted cruz tell megyn kelli would forc rape victim carri rapist babi video',\n",
       " 'bet thing say stacey dash hypocrisi tweet',\n",
       " 'trump daughter ivanka join call argentina macri',\n",
       " 'ann frank center torch trump pathet late condemn anti semit',\n",
       " 'polic chief accident shot camp buddi lie',\n",
       " 'franc say lead renew effort make planet great',\n",
       " 'cambodia hun sen vow stay power least anoth year',\n",
       " 'french minist call trump climat chang irma wreak havoc',\n",
       " 'eu foreign polici chief concern propos cut u aid',\n",
       " 'viewer demand shepard smith fire fox news leftist host shepard smith pull unbeliev propaganda stunt last night video',\n",
       " 'minut saturday night live sketch end trump alreadi b tching video',\n",
       " 'trump post disgust video vicious assault hillari clinton',\n",
       " 'open border liber put entir nation high alert german spi chief warn radic islamist readi attack isi member among refuge',\n",
       " 'trump make daughter ivanka fill exhaust',\n",
       " 'german coalit candid want percent cut co emiss sourc',\n",
       " 'tri reset agenda uk may set tackl social injustic',\n",
       " 'honor nativ american code talker trump call elizabeth warren pocahonta video',\n",
       " 'saudi crown princ meet lebanon maronit patriarch al arabiya',\n",
       " 'austrian conserv kurz say need time coalit',\n",
       " 'olymp open ceremoni slip polit show rio',\n",
       " 'lefti stunt backfir inflat trump chicken huge hit found spirit anim',\n",
       " 'flashback florida coupl nearli foreclos bank america',\n",
       " 'sarah jessica parker fear attack kill trump elect seen multipl trump support bloodi hillari lib mob',\n",
       " 'watch conservationist jane goodal blast trump attack climat scienc',\n",
       " 'gun dealer back sell zimmerman murder weapon close social media account',\n",
       " 'trump say never make mistak immedi make mistak video',\n",
       " 'n c governor sign bill repeal charlott transgend bathroom law',\n",
       " 'senat rule deal setback republican healthcar bill',\n",
       " 'wisconsin ohio california among state target russian hacker race',\n",
       " 'u n welcom move libya help find refuge solut',\n",
       " 'lawmak may ask air forc look restart f product',\n",
       " 'kiss death two state solut jerusalem declar israel capit plo envoy',\n",
       " 'age amazon tradit shop mall dead',\n",
       " 'australia kick week long sex marriag ballot',\n",
       " 'islamist milit kill six soldier southern philippin',\n",
       " 'russian pipelin monopoli say weather well u sanction',\n",
       " 'break evid trump collud russia circumstanti detail',\n",
       " 'high school student bash deserv rape pastor head basebal bat video',\n",
       " 'furiou trump support threaten kill trump chang immigr polici video',\n",
       " 'billionair gop donor refus crown king trump usual huge contribut',\n",
       " 'wonder world us saviour complex',\n",
       " 'gop oper connect trump oust top advis tri obtain russian hack clinton email',\n",
       " 'syrian armi iranian back militia push toward idlib provinc',\n",
       " 'trump obliter phoni vietnam con artist dem senat alleg trump campaign collus russian',\n",
       " 'puerto rico crisi bill strengthen creditor cram remain',\n",
       " 'britain set monday latest deadlin northern ireland polit talk',\n",
       " 'break news presid trump announc major polici shift transgend peopl us militari',\n",
       " 'loser trump make excus settl trump univers lawsuit get own',\n",
       " 'judg seal video deposit clinton email case hill',\n",
       " 'spain urg catalonia secessionist obey madrid',\n",
       " 'trump take credit republican win georgia get brutal humili math',\n",
       " 'empir take racist polic violenc gun america breathtak new song video',\n",
       " 'trump new ceo left worst nightmar',\n",
       " 'pew u survey find agreement gun control propos',\n",
       " 'jan brewer insult everi american pow defend draft dodg trump',\n",
       " 'new york governor unveil south bronx highway rebuild plan',\n",
       " 'pope wear refuge id bracelet appeal help migrant',\n",
       " 'kremlin see trump tweet offici statement',\n",
       " 'trump send danger tweet claim voter fraud texa state vote offici call bullsh',\n",
       " 'trump whine divers hamilton cast audienc oppos bigot mike penc insan twitter rant',\n",
       " 'robert deniro ignorantli allow anti vaxxer propaganda tribeca film festiv',\n",
       " 'wilbur ross seek bigger budget trade enforc',\n",
       " 'senat republican leader obama politic suprem court process',\n",
       " 'trump pick aboard top u court tackl religi right',\n",
       " 'u voter deliv mix result gun control measur',\n",
       " 'gop billionair panic confer call beg money stop trump',\n",
       " 'alabama consid promot lawless disgrac justic roy moor',\n",
       " 'bust grow evid support claim cruz intent lie carson drop audio',\n",
       " 'watch ami goodman destroy cnn pathet elect coverag video',\n",
       " 'actor jame wood destroy leftist time articl suggest u lie n korea tortur otto warmbier die return coma',\n",
       " 'list take advantag fail eu auster experi greec',\n",
       " 'hillari latest one word respons trump twitter melt internet tweet',\n",
       " 'poll show huge chunk feder employe would quit trump presid',\n",
       " 'independ referendum catalonia today spain pm',\n",
       " 'two key republican agre nation flood insur',\n",
       " 'badass isra stab palestinian pull knife neck next stun',\n",
       " 'yet anoth dem lawmak snub trump inaugur lewi attack',\n",
       " 'trump definit fair media coverag video',\n",
       " 'south korea start talk u develop militari capabl',\n",
       " 'ivanka trump tweet dead syrian children twitter perfect respons tweet',\n",
       " 'obama mention gun control dalla shoot right winger total lose mind',\n",
       " 'exclus koran boot scarv remain philippin rebel leader lair',\n",
       " 'epa chief climat denier normal peopl',\n",
       " 'telecom compani get f ck georgia lawmak legal discrimin',\n",
       " 'senat reach deal help state water program flint',\n",
       " 'trey gowdi dea chief misconduct hell get',\n",
       " 'new poll show clinton crush trump key swing state',\n",
       " 'obama epa gestapo skip hear co mine toxic sludg disast attend un climat chang meet obama instead',\n",
       " 'hungari badass prime minist respond threat eu respons make everyon want stand cheer video',\n",
       " 'trump say debt ceil mess could avoid twitter',\n",
       " 'cancer patient mock leftist comedian trump nazi get last laugh video',\n",
       " 'factbox south africa anc pick zuma successor',\n",
       " 'coalit state urg trump kill obama carbon emiss plan',\n",
       " 'hillari clinton insult embarrass ambassador refus follow decorum',\n",
       " 'bill clinton ex lover spill bean lumpi hillari',\n",
       " 'saudi arabia seek islam tourism boost test heritag tradit',\n",
       " 'barca close soccer stadium show support catalan voter bartomeu',\n",
       " 'colorado voter reject measur creat univers healthcar',\n",
       " 'white hous make decis report june bob graham',\n",
       " 'white hous commit help puerto rico recov hurrican spokeswoman',\n",
       " 'death toll malaysia construct site landslid',\n",
       " 'cuba visit colorado governor see govern desir work trump',\n",
       " 'break highest rank elect republican say support trump',\n",
       " 'hilari hypocrisi display intoler leftist group stop c gay pride parad forc take altern rout video',\n",
       " 'world power push saudi iran stop interf lebanon',\n",
       " 'bahrain call pipelin blast terror link iran',\n",
       " 'hous republican forc fetal tissu research reveal ident despit risk violenc',\n",
       " 'kill iraqi kurdish clash u militari',\n",
       " 'factbox trump order halt refuge program',\n",
       " 'hometown take obama refuge list citi transplant',\n",
       " 'yrc shutter termin puerto rico hurrican irma approach',\n",
       " 'britain escort russian ship near nation water amid strain relat',\n",
       " 'hous intel panel chief say meet trump white hous visit',\n",
       " 'see sarah palin compar donald trump make queasi imag',\n",
       " 'trap rohingya muslim myanmar get first substanti food aid month',\n",
       " 'trump demot career state depart offici breitbart question loyalti america',\n",
       " 'hillari bern obama tell donor back hillari hillari win without free colleg voter',\n",
       " 'break obama appoint judg order vote recount begin noon monday',\n",
       " 'trump say critic republican senat corker strang',\n",
       " 'u militia gird troubl presidenti elect near',\n",
       " 'lott chief get suspend prison sentenc free run firm',\n",
       " 'tillerson say disagr trump xi north korea',\n",
       " 'republican parti chairman confid cleveland convent secur',\n",
       " 'fox friend ignor fbi director trump bombshel jake tapper call',\n",
       " 'presid obama school nba champion stephen curri basketbal stuff video',\n",
       " 'gretchen carlson fire fox news refus sleep sleazebal roger ail lawsuit',\n",
       " 'outstand watch lee greenwood sing god bless usa trump reaction video',\n",
       " 'judg napolitano bombshel intel tell trump inform one presid video',\n",
       " 'star young popular di maio chart cours itali pm',\n",
       " 'trump revis travel ban dealt first court setback',\n",
       " 'judg tent reject bid toss trump univers lawsuit',\n",
       " 'blast turkish textil factori kill five wound ministri',\n",
       " 'rudi giuliani turn blither idiot confront cnn host video',\n",
       " 'franc say turkish russia missil deal sovereign decis',\n",
       " 'south korea moon seek russia cooper cut north korea oil suppli yonhap',\n",
       " 'china southeast asia aim build trust sea drill singapor say',\n",
       " 'facebook say russian link account spent cent ad brexit',\n",
       " 'turkish pm say trump victori chanc advanc relat u',\n",
       " 'rare look insid heart societi iraq shi ite',\n",
       " 'break syrian refuge kill german woman injur machet german citizen plow refuge bmw video',\n",
       " 'peru central bank chief say trump give goos bump',\n",
       " 'obama take suprem court fight republican senat home turf',\n",
       " 'ex congressman indict count spend scandal',\n",
       " 'trump meet irish pm white hous ahead st patrick day',\n",
       " 'trudeau confront canada failur indigen peopl u n speech',\n",
       " 'austria kurz say pro eu stanc secur deal far right',\n",
       " 'group sue trump repeal u wildlif rule rare legal challeng',\n",
       " 'obama asian worri u elect go ok',\n",
       " 'lol cnn interview abruptli end student start protest betsi devo speech realiz explain protest video',\n",
       " 'agricultur leader slam trump usda budget cut propos',\n",
       " 'unesco select franc azoulay new chief',\n",
       " 'cast hamilton extraordinari messag mike penc audienc boo video',\n",
       " 'saturday night live post inaugur open exactli laugh need video',\n",
       " 'southern yemen leader see independ referendum parliament bodi',\n",
       " 'north korea warn u greatest pain reject sanction',\n",
       " 'maxin water threw epic twitter bomb trump',\n",
       " 'go home tillerson tell iranian back militia iraq',\n",
       " 'dalla cowboy owner jerri jone lead effort oust nfl commission roger goodel',\n",
       " 'trump ohio bastion support dismiss uproar donald jr',\n",
       " 'alec baldwin trash presid bannon dim wit second donald trump tweet',\n",
       " 'piss hell oregon rancher furiou bundi militia home video',\n",
       " 'pastor massiv drug oper help cop teacher clown video',\n",
       " 'japan seek fund boost missil rang day north korea threat',\n",
       " 'watch trump support goe anti muslim rant karma happen video',\n",
       " 'hawaii enact law commit goal pari climat accord',\n",
       " 'speech fiasco uk minist say rule conserv must stay cool',\n",
       " 'white hous pledg aid help chicago quell violenc',\n",
       " 'black boston cop taunt black woman stupid black bitch suppos side',\n",
       " 'trump offer nation secur advis post michael flynn senior trump offici',\n",
       " 'breitbart star lost preciou book deal horrifi suggest child abus okay',\n",
       " 'minnesota mayor classic liber meltdown white privileg denier video',\n",
       " 'lewi black slam cruz creepi one notic bulli video',\n",
       " 'watch leonardo dicaprio gave oscar accept speech put republican shame',\n",
       " 'watch nazi apologist creat group young trump fan downright terrifi',\n",
       " 'trump oppon urg u suprem court rule travel ban',\n",
       " 'lebanon pm hous arrest saudi arabia pro hezbollah paper',\n",
       " 'juli th schoolhous rock preambl us constitut',\n",
       " 'obama show trump real presid treat former oppon',\n",
       " 'trump take voter fraud conspiraci terrifi new level',\n",
       " 'hous intellig chairman benefit open new russia hack probe',\n",
       " 'colombian presid say left firm list leak tax paper',\n",
       " 'florida republican insan meltdown call interview go f video',\n",
       " 'eu say hariri must return lebanon warn saudi interfer',\n",
       " 'realli want miss ana navarro pummel trump chief racism apologist video',\n",
       " 'tillerson land riyadh start gulf south asia tour',\n",
       " 'youtub give disgust reason pull ad revenu outspoken presid trump fan diamond silk video suitabl advertis',\n",
       " 'chechen leader amid reshuffl say readi die putin',\n",
       " 'lol trump support sing hey hey hey good bye send antifa soro paid democrat berkeley back parent basement video',\n",
       " 'boiler room ep live swamp train funksoul randi j patrick henningsen',\n",
       " 'hollywood darl sandra bullock play abort barbi new movi',\n",
       " 'kremlin say bank meet trump son law routin busi',\n",
       " 'uk say seek build momentum brexit talk breakthrough',\n",
       " 'russia putin say decid soon run elect',\n",
       " 'clinton consid warren sander run mate wsj',\n",
       " 'maxin water glitteri cowboy hat goe war trump word said griev widow',\n",
       " 'good riddanc jame clapper resign director us intellig',\n",
       " 'three resign cnn botch trump russia stori come',\n",
       " 'man accus plot kill british pm may face trial june',\n",
       " 'clinton embrac obama hold risk gener elect matchup',\n",
       " 'pr specialist say set meet trump son russian lawyer client request',\n",
       " 'hillari grifter brother mooch clinton foundat donat use slush fund',\n",
       " 'believ racist imag trump tweet megyn kelli imag',\n",
       " 'norfolk southern resum limit train servic irma hit area',\n",
       " 'bundi terrorist drag littl girl school serv human shield oregon standoff',\n",
       " 'castro demand return illeg occupi gitmo restor diplomat relat',\n",
       " 'surpris detour presid trump arriv palm beach celebr protest victori video',\n",
       " 'trump ask putin alleg russian meddl true ria',\n",
       " 'knew donna brazil blow dnc secret wide open expos sicken reason dnc remain silent russian hack email',\n",
       " 'china accus australia paranoia foreign influenc law',\n",
       " 'iceland left green opposit leader becom new prime minist',\n",
       " 'ironi colleg anti capitalist group disband member rich white',\n",
       " 'uk say construct relationship ireland focu brexit progress',\n",
       " 'watch megyn kelli prove idea first amend work video',\n",
       " 'hedg fund founder scaramucci join trump white hous liaison',\n",
       " 'germani merkel ahead spd rival tv debat poll',\n",
       " 'twitter erupt glee cruzsexscand rumor tweet',\n",
       " 'amazingli racist bigot thing trump support actual believ video',\n",
       " 'comey say trump fire undermin fbi russia investig',\n",
       " 'boycottpenzey hate divis penzey spice co owner threaten trump support brag increas sale sinc call trump support racist',\n",
       " 'nigeria anti graft agenc reject ex first ladi witch hunt accus',\n",
       " 'nazi demonstr turn violent multipl counter protest stab video',\n",
       " 'suspect graft indonesian parliament speaker guard hospit',\n",
       " 'hous speaker ryan say daca fix border secur need link',\n",
       " 'jorg ramo slam fox host reilli hanniti coddl trump video',\n",
       " 'north korea say trump beg war asia trip',\n",
       " 'trump meet wireless drone execut new technolog',\n",
       " 'democrat afraid trump terribl presid worri video',\n",
       " 'suprem court hear minnesota voter apparel law challeng',\n",
       " 'credit trump success bannon quickli fell grace',\n",
       " 'dylann roof repres charleston massacr trial court decid sane',\n",
       " 'conserv push nearli unthink death penalti ban',\n",
       " 'u interior dept watchdog launch probe zink travel',\n",
       " 'democrat media alli attempt crush black gop candid backfir carson beat trump everi nation poll',\n",
       " 'white hous say leak materi use nbc report',\n",
       " 'iraq warn kurdistan shut kirkuk oil flow',\n",
       " 'california attorney gener harri say interest suprem court job report',\n",
       " 'colin powel joke still republican funni',\n",
       " 'power moment biden protest end invit backstag video',\n",
       " 'u n move migrant libya',\n",
       " 'middl class american worri trump health subsidi cut hurt',\n",
       " 'ted cruz knock ballot becam real possibl',\n",
       " 'respons gun owner hold children gunpoint lectur crime',\n",
       " 'nj gov chri christi get cub fan face basebal game pretti video',\n",
       " 'feelthebern guy want clean corrupt c accept thousand illeg campaign contribut',\n",
       " 'wyom cruz show edg trump grasp nuanc white hous race',\n",
       " 'activist execut tell texa senat ditch bathroom bill',\n",
       " 'u commerc depart launch china market economi review',\n",
       " 'civil right group sue missouri stop voter id law',\n",
       " 'statu liberti muslim congressman spark protest hang paint offic',\n",
       " 'leftist media expos democrat parti ignor rape alleg bill clinton give hillari pass threaten victim',\n",
       " 'let fake news trump troll hard swedish newspap',\n",
       " 'trump say thought fire russia probe special counsel',\n",
       " 'turkish banker make second bid mistrial u sanction case',\n",
       " 'citibanamex lower mexico gdp percent due quak',\n",
       " 'watch dr ben carson hit back critic like brain surgeon video',\n",
       " 'mexico women protest violenc skelet day dead march',\n",
       " 'er defi trump kneel anthem solidar colin kaepernick video',\n",
       " 'noon deadlin set zanu pf mugab resign pass',\n",
       " 'gunmen kill intellig offic islamabad shi ite mosqu',\n",
       " 'michel obama middl east speech compar oppress childhood muslim girl live sharia law video',\n",
       " 'break pictur mother whose boy climb gorilla cage reveal angri black twitter user humili blame white privileg gorilla death',\n",
       " 'islam state claim respons rocket mortar fire kabul airport',\n",
       " 'turkey erdogan call kill rohingya myanmar genocid',\n",
       " 'break chariti fail reveal donor clinton foundat',\n",
       " 'onlin bettor see donald trump odd republican nomine',\n",
       " 'watch trump desper pander evangel pathet way imagin video',\n",
       " 'show friend fulli grasp sever hillari clinton email breach',\n",
       " 'algeria rule cast set orderli success time come',\n",
       " 'donald trump give epic respons pga move trump doral mexico',\n",
       " 'dear liber hostil polit belief threat liberti three boy',\n",
       " 'grab em p ssi scott baio say wife red hot chili pepper drummer beat',\n",
       " 'breitbart attack jake tapper hilari respons shut tweet',\n",
       " 'south sudan judg end strike return huge legal backlog',\n",
       " 'u presidenti campaign discuss fed polici meet offici',\n",
       " 'top republican oper dub trump cheeto jesu issu epic f gop brass tweet',\n",
       " 'german defens minist say troop withdraw afghanistan rapid',\n",
       " 'nerv agent vx found shirt women accus north korean murder expert say',\n",
       " 'one seven catalan see disput madrid end independ poll',\n",
       " 'obama blame russia hillari loss new harvard studi expos realli interf outcom elect',\n",
       " 'senat say enough trump racism forc go legal record condemn white supremacist',\n",
       " 'bannon loss keep come',\n",
       " 'london new muslim mayor threaten trump allow muslim u attack america',\n",
       " 'new cold war rehash old rivalri',\n",
       " 'perfectionist mayer lead halfway decathlon',\n",
       " 'u n right boss seek probe catalonia violenc polit talk',\n",
       " 'ann coulter make sick comparison hillari hitler ask berni fan went',\n",
       " 'watch anti lgbt activist get destroy answer bathroom tran women use',\n",
       " 'idaho republican push bill let teacher use bibl scienc class',\n",
       " 'tillerson seek reassur worri europ trump',\n",
       " 'leak email hillari team caught bash backward cathol',\n",
       " 'dancer hid peru rebel chief freed prison year',\n",
       " 'watch clinton destroy trump gop stupid respons terror',\n",
       " 'pakistan afghanistan angri tangl border fenc keep milit',\n",
       " 'franc macron regret trump unilater jerusalem decis',\n",
       " 'pastor decid straight coupl even support marriag equal cancel wed',\n",
       " 'obama announc lift u sanction myanmar',\n",
       " 'former nazi death camp guard charg accessori murder',\n",
       " 'u attorney gener session hold news confer thursday',\n",
       " 'loom u abort rule could danger say top attorney',\n",
       " 'trump keep shoot foot tweet know shut',\n",
       " 'ami goodman corpor media creat trump land video',\n",
       " 'obama crown princ abu dhabi meet wednesday even white hous',\n",
       " 'marco rubio hilari reaction trump touch video',\n",
       " 'joel mchale perform bigot north carolina someth extraordinari imag',\n",
       " 'u hous speaker ryan applaud new puerto rico aid bill',\n",
       " 'top hous democrat pelosi say independ russia probe still need',\n",
       " 'secret memo show everi singl congressman could hit russian investig',\n",
       " 'australian pm say govern aim legal sex marriag year end',\n",
       " 'activist appeal new south african nuclear plant decis',\n",
       " 'trump got punk hard accept purpl heart',\n",
       " 'u compani tout climat polici fund climat skeptic',\n",
       " 'massachusett sheriff offer prison inmat build trump wall',\n",
       " 'two injur shoe sale shootout suburban mn mall video',\n",
       " 'trump monstrou threat vital govern function nobodi talk',\n",
       " 'pastor pray death orlando survivor got kick build',\n",
       " 'illinoi hous pass billion tax packag spend plan',\n",
       " 'internet hilari mock trump tinytrump meme trump hissi fit imag',\n",
       " 'syrian kurd say russia promis attend sochi talk',\n",
       " 'sweep chang china militari point firepow xi',\n",
       " 'britain may say action taken sexual abus parliament',\n",
       " 'mani senat democrat frustrat slow u syrian refuge admiss',\n",
       " 'donald trump post brutal video show much everyon hate ted cruz video',\n",
       " 'trump seiz u job report target democrat econom polici',\n",
       " 'trump say decid run mate week end washington post',\n",
       " 'actor tim allen hillari capabl funni bill clinton creepili check wife met video',\n",
       " 'maddow farc pretend gop agre trump abort video',\n",
       " 'fast food worker protest trump labor secretari nomine',\n",
       " 'sander endors clinton could come earli next week abc news',\n",
       " 'malaysian pm najib say use mean fight trump jerusalem move',\n",
       " 'hillari confidant ask run give stun answer confirm think video',\n",
       " 'video epa chief desper show climat chang scam unless want debat cigarett cancer debat climat chang',\n",
       " 'hilari rare video show hillari prepar avoid trump hug',\n",
       " 'fbi back cia assess russian motiv u hack offici',\n",
       " 'asylum seeker refus leav papua new guinea camp despit loss power water',\n",
       " 'asham franken say quit senat grope accus',\n",
       " 'third grader roast trump hilari letter obliter deport rhetor imag',\n",
       " 'turkey erdogan call syria assad terrorist say imposs continu',\n",
       " 'climat chang partisan issu kerri say',\n",
       " 'michael moor lay wast anyon say christian yet support trump bigotri',\n",
       " 'panhandl confront outrag man video',\n",
       " 'trump resist pressur soften stanc iran nuclear deal',\n",
       " 'isra missil hit militari posit near damascu syrian state tv',\n",
       " 'democrat senat urg speed suprem court nomine',\n",
       " 'judg jeanin pirro mitt romney awok sleep giant video',\n",
       " 'man sword injur polic outsid uk queen palac',\n",
       " 'palestinian protest attack us embassi lebanon',\n",
       " 'trump law order ag sign execut order give cop power shoot black peopl',\n",
       " 'trump meet biotech ceo farm advis fret empti usda spot',\n",
       " 'trump protest organ destroy debat illeg think peopl right lock door video',\n",
       " 'franc macron trade barb diplomaci trump',\n",
       " 'senat ask trump epa chief pick disclos energi industri tie',\n",
       " 'putin break trump humili public split bride',\n",
       " 'california senat confirm democrat becerra attorney gener',\n",
       " 'email show obama epa plan let flint resid drink poison water',\n",
       " 'henri rollin destroy north carolina gop governor sign anti lgbt law',\n",
       " 'tiger tip clinton bear back trump siberian zoo mock vote',\n",
       " 'iran guard readi help rebuild syria hezbollah disarm tv',\n",
       " 'young german conserv call chang elect loss',\n",
       " 'rex tillerson nikki haley flip flop',\n",
       " 'watch sarah huckabe sander mock media ignor public testimoni prove fake russian dossier part witch hunt hoax',\n",
       " 'partisan feud undercut trump russia probe u democrat charg',\n",
       " 'taiwan activist tri subvers china open hear',\n",
       " 'watch eric trump get call fox news claim dad start noth',\n",
       " 'trump campaign manag regist foreign agent lobbi russian interest',\n",
       " 'nigerian militari say repel suspect boko haram attack',\n",
       " 'man perfect respons hous gop attempt destroy internet privaci',\n",
       " 'fox news host destroy colleagu kiss donald trump ring tweet',\n",
       " 'factbox trump manufactur panel ceo compani comment charlottesvil',\n",
       " 'mom whose children kill illeg testifi congress today',\n",
       " 'come itali refuge work free itali interior minist fed financi burden citizen',\n",
       " 'poem twa night cnn christma',\n",
       " 'conserv mom cruz support goe trump',\n",
       " 'u republican push back democrat gun control effort',\n",
       " 'shame proof trump care militari veteran',\n",
       " 'ted cruz tell fanat put armor god prepar fight',\n",
       " 'great video silent major speak',\n",
       " 'twitter user annihil donald trump confus conveni store video',\n",
       " 'trump recogn urgenc north korea nuclear threat south korea',\n",
       " 'cb report describ racism donald trump ralli',\n",
       " 'famili australian woman fatal shot want minnesota cop charg',\n",
       " 'ted cruz attack sean penn glorifi homicid killer penn brilliant respons video',\n",
       " 'obama brief britain vote leav eu',\n",
       " 'white hous say curb feder agenc media activ',\n",
       " 'watch democrat state senat said apolog say wish presid trump would assassin make tear apolog',\n",
       " 'islam state behead fighter afghan offici',\n",
       " 'anti hillari poster pop hollywood great time',\n",
       " 'trump version fire jame comey blown water',\n",
       " 'trump prais ford fiat chrysler u invest',\n",
       " 'macron vow caribbean rebuild anger rise european power',\n",
       " 'trump greet egyptian american freed egyptian detent',\n",
       " 'million thai bank share transfer behalf king sec',\n",
       " 'watch fox host smile thought octob terrorist attack would help trump',\n",
       " 'grace mugab return zimbabw campaign trail assault charg',\n",
       " 'turkey retri opposit lawmak jail espionag charg ntv',\n",
       " 'u lawmak releas sampl russian bought facebook ad',\n",
       " 'congress watchdog investig trump voter fraud panel',\n",
       " 'u senat still track releas tax bill thursday aid',\n",
       " 'least dead day violenc ethiopia oromiya region',\n",
       " 'republican obamacar repeal would benefit wealthiest studi',\n",
       " 'angri left attack trump let year old mow white hous lawn video',\n",
       " 'kenya presid elect go ahead despit opposit leader withdraw',\n",
       " 'nba polit tell north carolina f ck right fix bathroom law',\n",
       " 'democrat lawmak press flynn middl east trip',\n",
       " 'u north korea clash u n forum nuclear weapon',\n",
       " 'ahead obama visit cuba say readi talk right',\n",
       " 'catalan leader address cancel region govern',\n",
       " 'factbox saudi king lift ban women drive right',\n",
       " 'merkel say would prefer new elect minor govern',\n",
       " 'schiff nune decis leav probe russia offer fresh start',\n",
       " 'idea presid trump scare bolster other asia',\n",
       " 'eu tusk say leader open intern work brexit phase two',\n",
       " 'jimmi kimmel let littl girl ador mock sarah palin nd birthday video',\n",
       " 'trump donat first quarter salari nation park servic',\n",
       " 'u n ban north korean textil disrupt industri ordinari live expert say',\n",
       " 'factbox trump tax plan stumbl local tax deduct k',\n",
       " 'ohio governor lack power suspend open carri law spokeswoman',\n",
       " 'senior lawmak conyer leav u congress harass accus',\n",
       " 'oop sheila jackson lee call woman kick first class racist bad know one import thing passeng',\n",
       " 'van jone explain rachel maddow actual gotcha moment turn good night donald trump video',\n",
       " 'congo refuge pour border angola back kabila doubt',\n",
       " 'earthquak elect destroy gop predict poll number releas',\n",
       " 'russia cast th u n veto syria action block inquiri renew',\n",
       " 'wealthi white hous staffer financ detail new disclosur',\n",
       " 'wow mexican need kill donald trump becom presid cross border go kill trump support video',\n",
       " 'peopl injur catalonia referendum catalonia region govern',\n",
       " 'texa lawyer sue cruz challeng elig',\n",
       " 'gay marriag approv suprem court iron dissent opinion justic robert court legislatur',\n",
       " 'ohio spell error could cost vote',\n",
       " 'india gandhi scion seek reviv pm modi backyard',\n",
       " 'senat delay healthcar vote mccain recov surgeri',\n",
       " 'watch north carolina governor want kill civil right act bring back segreg',\n",
       " 'trump jr also met ex soviet intellig offic get dirt hillari clinton',\n",
       " 'trump say strateg patienc north korea',\n",
       " 'u offici work restor public trust polic attorney gener',\n",
       " 'window fall u marin helicopt onto school ground japan okinawa',\n",
       " 'crazi trump girl stun cnn host rumor marco rubio gay lifestyl video',\n",
       " 'factbox watch negoti detail u tax bill',\n",
       " 'white hous trump spoke moor endors senat campaign',\n",
       " 'trump spokeswoman ralli violenc head collis truth video',\n",
       " 'illinoi governor announc veto billion tax hike',\n",
       " 'china say freed swedish booksel whereabout still unknown',\n",
       " 'trump say want star inaugur like fanci parti',\n",
       " 'small protest trump japan philippin',\n",
       " 'watch trump surrog omarosa say detractor forc bow presid trump',\n",
       " 'twitter goe nut presid obama accomplish yet anoth first',\n",
       " 'hillari cut interview short felt anoth cough fit come duck behind pillar video',\n",
       " 'gritti new jersey sourc wealth trump son law',\n",
       " 'california trump ralli lead violenc thousand protestor support video',\n",
       " 'trump wrong retweet uk far right group british pm may spokesman',\n",
       " 'yemen houthi say sanaa airport repair readi receiv flight agenc',\n",
       " 'mental ill mother shoot sleep five year old head video',\n",
       " 'trump jr accomplic set russian meet check facebook tweet',\n",
       " 'death p c polic trump doj make major announc redskin name',\n",
       " 'canadian pastor escap execut due foreign citizenship cbc',\n",
       " 'ryan trump cite posit step toward republican uniti',\n",
       " 'kansa republican bill would give gop power impeach judg disagre',\n",
       " 'yemen say saudi led coalit allow commerci flight',\n",
       " 'break muslim open fire journalist video',\n",
       " 'hardlin west bank settler jare kushner man',\n",
       " 'trump taj mahal offici close labor day',\n",
       " 'oscar win actress jennif lawrenc recal attend concert trump adam find make video go hey trump f ck video',\n",
       " 'fbi warn republican leak clinton email file',\n",
       " 'turkey restor sudanes red sea port build naval dock',\n",
       " 'u conduct missil defens test hawaii coast',\n",
       " 'trump bribe author hide fact cruelli divorc one wive',\n",
       " 'moldova send troop nato drill despit presidenti veto',\n",
       " 'democrat sue get document trump washington hotel',\n",
       " 'republican lawmak urg trump revers cuba open',\n",
       " 'trump say consid powel taylor serv fed',\n",
       " 'senat vote begin tax bill negoti hous',\n",
       " 'u back sdf launch final assault syria raqqa citi',\n",
       " 'german spd start talk merkel next week member agre',\n",
       " 'nazi whine impend releas anti nazi video game video tweet',\n",
       " 'trump end recent tradit establish obama',\n",
       " 'bad news trump white voter base abandon',\n",
       " 'iran name nuclear negoti team member jail spi',\n",
       " 'battl line drawn south africa anc eve leadership vote',\n",
       " 'compani put billboard final get blacklivesmatt right without racist connot',\n",
       " 'repeat deceit us tri link iran al qaeda',\n",
       " 'violent left expos anti trump latino spray pepper spray face pro trump women children',\n",
       " 'megyn kelli desper attempt rescu kasich sexist comment video',\n",
       " 'trump administr surrend staffer alreadi pass around resum detail',\n",
       " 'peru rais cost post flood rebuild nearli billion',\n",
       " 'zimbabw mnangagwa open amnesti window return stolen fund',\n",
       " 'hous tax committe plan public hear tax overhaul',\n",
       " 'australian former governor gener peacemak ninian stephen die',\n",
       " 'hacker target presidenti campaign u spi chief',\n",
       " 'watch sanctimoni anti trump hollywood implod best friend turn save career new movi suburbicon',\n",
       " 'xi say china zero toler corrupt within parti',\n",
       " 'fl pastor target neighbor nazi flag display boat law imag',\n",
       " 'u state depart call myanmar releas reuter journalist',\n",
       " 'trump unfairli attack obamacar get pulver twitter',\n",
       " 'euro zone germani schaeubl face new challeng far right',\n",
       " 'black femal rapper endors trump black folk vote democrat last year shit show hillari treat us like pet',\n",
       " 'colombia farc rebel meet kerri cuba obama trip',\n",
       " 'factbox british busi organ react brexit talk progress',\n",
       " 'bill maher nail republican let parti get hijack racist video',\n",
       " 'former trump aid nomin singapor envoy stall russia concern',\n",
       " 'illinoi fix unpaid bill may end financi time bomb',\n",
       " 'macron assur iran rouhani franc commit nuclear deal',\n",
       " 'fake cnn msnbc caught claim live guest air time video',\n",
       " 'death tax half princ estat go govern',\n",
       " 'wil wheaton raze trump racist support thin skin bulli tweet',\n",
       " 'hidden camera footag reveal disturb fact kid gun video',\n",
       " 'democrat set bill seek overturn trump travel ban',\n",
       " 'break mexico presid cancel visit trump defend us border lawbreak wrong imprison us marin tahmooressi border violat big deal',\n",
       " 'dnc vice chair resign declar support berni sander video',\n",
       " 'trump budget plan propos major cut state dept epa ny time',\n",
       " 'state depart enough email record spokesman',\n",
       " 'missouri lawmak overrid gun voter id veto',\n",
       " 'roll stone done trump use music video',\n",
       " 'new sheriff town isi get stun wake call gener mad dog matti day one',\n",
       " 'go hillari e mail read pleasur',\n",
       " 'nevada sander face struggl broaden appeal',\n",
       " 'exclus u memo weaken guidelin protect immigr children court',\n",
       " 'texa republican introduc bill put women prison abort',\n",
       " 'dem furiou rosenstein brief',\n",
       " 'obama defend record terror nation secur speech',\n",
       " 'china chongq vow purg former leader vile influenc',\n",
       " 'wikileak nsa spi un secretari gener world leader secret meet',\n",
       " 'u air forc secretari nomine back stealth aspect f',\n",
       " 'ireland say want agre word brexit border decemb summit',\n",
       " ...]"
      ]
     },
     "execution_count": 102,
     "metadata": {},
     "output_type": "execute_result"
    }
   ],
   "source": [
    "corpus"
   ]
  },
  {
   "cell_type": "markdown",
   "id": "5f12ea42",
   "metadata": {},
   "source": [
    "# Bag Of Words\n",
    "\n",
    "The bag-of-words (BOW) model is a representation that turns arbitrary text into fixed-length vectors by counting how many times each word appears. This process is often referred to as vectorization.\n",
    "\n",
    "## How is BOW useful?\n",
    "Despite being a relatively basic model, BOW is often used for Natural Language Processing (NLP) tasks like Text Classification. Its strengths lie in its simplicity: it’s inexpensive to compute, and sometimes simpler is better when positioning or contextual info aren’t relevant."
   ]
  },
  {
   "cell_type": "code",
   "execution_count": 103,
   "id": "c619759e",
   "metadata": {},
   "outputs": [],
   "source": [
    "from sklearn.feature_extraction.text import CountVectorizer\n",
    "cv = CountVectorizer()\n",
    "X = cv.fit_transform(corpus).toarray()"
   ]
  },
  {
   "cell_type": "code",
   "execution_count": 104,
   "id": "78c1f7cb",
   "metadata": {},
   "outputs": [],
   "source": [
    "Y = df_combined.iloc[:,1].values"
   ]
  },
  {
   "cell_type": "code",
   "execution_count": 105,
   "id": "988ef99e",
   "metadata": {},
   "outputs": [],
   "source": [
    "from sklearn.model_selection import train_test_split\n",
    "X_train,X_test,Y_train,Y_test = train_test_split(X,Y, test_size = 0.20 , random_state = 0)"
   ]
  },
  {
   "cell_type": "code",
   "execution_count": 106,
   "id": "a090ef9f",
   "metadata": {},
   "outputs": [],
   "source": [
    "from sklearn.naive_bayes import MultinomialNB\n",
    "fake_news_model = MultinomialNB().fit(X_train,Y_train)"
   ]
  },
  {
   "cell_type": "code",
   "execution_count": 107,
   "id": "b38b2ef9",
   "metadata": {},
   "outputs": [],
   "source": [
    "Y_pred = fake_news_model.predict(X_test)"
   ]
  },
  {
   "cell_type": "code",
   "execution_count": 108,
   "id": "fa4697c8",
   "metadata": {},
   "outputs": [
    {
     "data": {
      "text/plain": [
       "array([[3350,  225],\n",
       "       [ 310, 3861]], dtype=int64)"
      ]
     },
     "execution_count": 108,
     "metadata": {},
     "output_type": "execute_result"
    }
   ],
   "source": [
    "from sklearn.metrics import confusion_matrix\n",
    "matrix = confusion_matrix(Y_test,Y_pred)\n",
    "matrix"
   ]
  },
  {
   "cell_type": "code",
   "execution_count": 109,
   "id": "192f2ab9",
   "metadata": {},
   "outputs": [
    {
     "data": {
      "text/plain": [
       "0.9309320939839918"
      ]
     },
     "execution_count": 109,
     "metadata": {},
     "output_type": "execute_result"
    }
   ],
   "source": [
    "from sklearn.metrics import accuracy_score\n",
    "accuracy = accuracy_score(Y_test,Y_pred)\n",
    "accuracy"
   ]
  },
  {
   "cell_type": "markdown",
   "id": "6915dd4f",
   "metadata": {},
   "source": [
    "Here, We got an accuracy of `93`%.This may change because using Random Sampling the highest accuracy i got was `94.4`%, Don't Worry it won't be much Different."
   ]
  },
  {
   "cell_type": "markdown",
   "id": "b5cba33b",
   "metadata": {},
   "source": [
    "## Saving The Model\n",
    "Saving Machine Learning Model using joblib."
   ]
  },
  {
   "cell_type": "code",
   "execution_count": 111,
   "id": "2ee2b1d5",
   "metadata": {},
   "outputs": [
    {
     "data": {
      "text/plain": [
       "['BOW_model.sav']"
      ]
     },
     "execution_count": 111,
     "metadata": {},
     "output_type": "execute_result"
    }
   ],
   "source": [
    "!pip install joblib --upgrade --quiet\n",
    "import joblib\n",
    "filename1 = 'BOW_model.sav'\n",
    "joblib.dump(fake_news_model, filename1)"
   ]
  },
  {
   "cell_type": "markdown",
   "id": "4c132d2c",
   "metadata": {},
   "source": [
    "### To load the data:\n",
    "\n",
    "loaded_model = joblib.load(filename1)"
   ]
  },
  {
   "cell_type": "markdown",
   "id": "98678dcb",
   "metadata": {},
   "source": [
    "# Tf-idf\n",
    "\n",
    "TF-IDF stands for term frequency-inverse document frequency and it is a measure, used in the fields of information retrieval (IR) and machine learning, that can quantify the importance or relevance of string representations (words, phrases, lemmas, etc)  in a document amongst a collection of documents (also known as a corpus).\n",
    "\n",
    "## Overview of TF-IDF\n",
    "TF-IDF can be broken down into two parts TF (term frequency) and IDF (inverse document frequency).\n",
    "\n",
    "### What is TF (term frequency)?\n",
    "Term frequency works by looking at the frequency of a particular term you are concerned with relative to the document. There are multiple measures, or ways, of defining frequency:\n",
    "\n",
    "1. Number of times the word appears in a document (raw count).\n",
    "2. Term frequency adjusted for the length of the document (raw count of occurences divided by number of words in the document).\n",
    "3. Logarithmically scaled frequency (e.g. log(1 + raw count)).\n",
    "4. Boolean frequency (e.g. 1 if the term occurs, or 0 if the term does not occur, in the document).\n",
    "\n",
    "### What is IDF (inverse document frequency)?\n",
    "Inverse document frequency looks at how common (or uncommon) a word is amongst the corpus. IDF is calculated as follows where t is the term (word) we are looking to measure the commonness of and N is the number of documents (d) in the corpus (D).. The denominator is simply the number of documents in which the term, t, appears in. \n",
    "\n",
    "IDF algorithm: idf(t, D) = log( N / count(d ∈ D : t ∈ d) )\n",
    "!['IDF'](https://ecm.capitalone.com/WCM/tech/tf-idf-1.png)\n",
    "\n",
    "Note: It can be possible for a term to not appear in the corpus at all, which can result in a divide-by-zero error. One way to handle this is to take the existing count and add 1. Thus making the denominator (1 + count). An example of how the  popular library scikit-learn handles this can be seen below.\n",
    "\n",
    "Image with the sci-kit learn IDF algo, IDF(t) = log( (1+n) / (1 + df(t))) + 1 vs Standard notation idf algo IDF(t) = log(n/df(t))\n",
    "\n",
    "!['IDF'](https://ecm.capitalone.com/WCM/tech/tf-idf-2.png)\n",
    "\n",
    "The reason we need IDF is to help correct for words like “of”, “as”, “the”, etc. since they appear frequently in an English corpus. Thus by taking inverse document frequency, we can minimize the weighting of frequent terms while making infrequent terms have a higher impact.\n",
    "\n",
    "Finally IDFs can also be pulled from either a background corpus, which corrects for sampling bias, or the dataset being used in the experiment at hand.\n",
    "\n",
    "Putting it together: TF-IDF\n",
    "To summarize the key intuition motivating TF-IDF is the importance of a term is inversely related to its frequency across documents.TF gives us information on how often a term appears in a document and IDF gives us information about the relative rarity of a term in the collection of documents. By multiplying these values together we can get our final TF-IDF value.\n",
    "\n",
    "\n",
    "TF-IDF algo: tf-idf(t,d,D) = tf(t,d) x idf(t,d)\n",
    "!['TF-IDF](https://ecm.capitalone.com/WCM/tech/tf-idf-3.png)\n",
    "\n",
    "The higher the TF-IDF score the more important or relevant the term is; as a term gets less relevant, its TF-IDF score will approach 0."
   ]
  },
  {
   "cell_type": "code",
   "execution_count": 112,
   "id": "c26f522e",
   "metadata": {},
   "outputs": [],
   "source": [
    "from sklearn.feature_extraction.text import TfidfVectorizer\n",
    "tf_idf = TfidfVectorizer()\n",
    "x = tf_idf.fit_transform(corpus).toarray()"
   ]
  },
  {
   "cell_type": "code",
   "execution_count": 113,
   "id": "2e98151a",
   "metadata": {},
   "outputs": [],
   "source": [
    "y = df_combined.iloc[:,1].values"
   ]
  },
  {
   "cell_type": "code",
   "execution_count": 114,
   "id": "26315b1a",
   "metadata": {},
   "outputs": [],
   "source": [
    "from sklearn.model_selection import train_test_split\n",
    "x_train,x_test,y_train,y_test = train_test_split(x,y, test_size = 0.20 , random_state = 0)"
   ]
  },
  {
   "cell_type": "code",
   "execution_count": 115,
   "id": "3d673644",
   "metadata": {},
   "outputs": [],
   "source": [
    "from sklearn.naive_bayes import MultinomialNB\n",
    "fake_news_model_2 = MultinomialNB().fit(x_train,y_train)"
   ]
  },
  {
   "cell_type": "code",
   "execution_count": 116,
   "id": "04333232",
   "metadata": {},
   "outputs": [],
   "source": [
    "y_pred = fake_news_model_2.predict(x_test)"
   ]
  },
  {
   "cell_type": "code",
   "execution_count": 117,
   "id": "0273b44f",
   "metadata": {},
   "outputs": [
    {
     "data": {
      "text/plain": [
       "array([[3304,  271],\n",
       "       [ 277, 3894]], dtype=int64)"
      ]
     },
     "execution_count": 117,
     "metadata": {},
     "output_type": "execute_result"
    }
   ],
   "source": [
    "from sklearn.metrics import confusion_matrix\n",
    "matrix = confusion_matrix(y_test,y_pred)\n",
    "matrix"
   ]
  },
  {
   "cell_type": "code",
   "execution_count": 118,
   "id": "05c37d30",
   "metadata": {},
   "outputs": [
    {
     "data": {
      "text/plain": [
       "0.9292538084172476"
      ]
     },
     "execution_count": 118,
     "metadata": {},
     "output_type": "execute_result"
    }
   ],
   "source": [
    "from sklearn.metrics import accuracy_score\n",
    "accuracy = accuracy_score(y_test,y_pred)\n",
    "accuracy"
   ]
  },
  {
   "cell_type": "markdown",
   "id": "dc792332",
   "metadata": {},
   "source": [
    "Here, We got an accuracy of `92.9`%.This may change because using Random Sampling the highest accuracy i got was `94`%, Don't Worry it won't be much Different."
   ]
  },
  {
   "cell_type": "markdown",
   "id": "41a015ea",
   "metadata": {},
   "source": [
    "## Saving The Model\n",
    "Saving Machine Learning Model using joblib."
   ]
  },
  {
   "cell_type": "code",
   "execution_count": 120,
   "id": "6d424e51",
   "metadata": {},
   "outputs": [
    {
     "data": {
      "text/plain": [
       "['TF-IDF_model.sav']"
      ]
     },
     "execution_count": 120,
     "metadata": {},
     "output_type": "execute_result"
    }
   ],
   "source": [
    "filename2 = 'TF-IDF_model.sav'\n",
    "joblib.dump(fake_news_model, filename2)"
   ]
  },
  {
   "cell_type": "markdown",
   "id": "b68af38c",
   "metadata": {},
   "source": [
    "### To load the data:\n",
    "\n",
    "loaded_model = joblib.load(filename2)\n"
   ]
  },
  {
   "cell_type": "code",
   "execution_count": null,
   "id": "4daadfcf",
   "metadata": {},
   "outputs": [],
   "source": []
  }
 ],
 "metadata": {
  "language_info": {
   "codemirror_mode": {
    "name": "ipython",
    "version": 3
   },
   "file_extension": ".py",
   "mimetype": "text/x-python",
   "name": "python",
   "nbconvert_exporter": "python",
   "pygments_lexer": "ipython3",
   "version": "3.9.7"
  }
 },
 "nbformat": 4,
 "nbformat_minor": 5
}